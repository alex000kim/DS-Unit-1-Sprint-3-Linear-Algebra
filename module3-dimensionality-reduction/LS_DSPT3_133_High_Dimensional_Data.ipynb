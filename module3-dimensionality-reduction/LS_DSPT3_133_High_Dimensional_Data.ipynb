{
  "nbformat": 4,
  "nbformat_minor": 0,
  "metadata": {
    "colab": {
      "name": "LS_DSPT3_133_High_Dimensional_Data.ipynb",
      "provenance": [],
      "collapsed_sections": [],
      "include_colab_link": true
    },
    "kernelspec": {
      "display_name": "Python 3",
      "language": "python",
      "name": "python3"
    },
    "language_info": {
      "codemirror_mode": {
        "name": "ipython",
        "version": 3
      },
      "file_extension": ".py",
      "mimetype": "text/x-python",
      "name": "python",
      "nbconvert_exporter": "python",
      "pygments_lexer": "ipython3",
      "version": "3.6.4"
    }
  },
  "cells": [
    {
      "cell_type": "markdown",
      "metadata": {
        "id": "view-in-github",
        "colab_type": "text"
      },
      "source": [
        "<a href=\"https://colab.research.google.com/github/alex000kim/DS-Unit-1-Sprint-3-Linear-Algebra/blob/master/module3-dimensionality-reduction/LS_DSPT3_133_High_Dimensional_Data.ipynb\" target=\"_parent\"><img src=\"https://colab.research.google.com/assets/colab-badge.svg\" alt=\"Open In Colab\"/></a>"
      ]
    },
    {
      "cell_type": "markdown",
      "metadata": {
        "colab_type": "text",
        "id": "Fh6s0VRfWc4f"
      },
      "source": [
        "## Functions from a Linear Algebra Perspective\n",
        "\n",
        "In mathematics a function is a relation between a set of inputs (domain) and a set of outputs (range) with the property that each input is related to (mapped to) exactly one output. This means that for functions that are represented in $\\mathbb{R}$ a function has to pass what is known as the \"vertical line test.\" The vertical line test means that if you were to pass a vertical line over the function it would only be touching the function in one spot at any given time\n",
        "\n",
        "Which of the graphs below are functions?\n",
        "\n",
        "![Vertical Line Test](https://dr282zn36sxxg.cloudfront.net/datastreams/f-d%3A85b0a1b61e819b34d9de44bdc1bf16987fcf6799a764bfc5e0328bfc%2BIMAGE_THUMB_POSTCARD_TINY%2BIMAGE_THUMB_POSTCARD_TINY.1)\n",
        "\n",
        "I want to re-emphasize that a function is a mapping from a set of inputs to a set of outputs where one input is mapped to only one output.\n",
        "\n",
        "## Relations as Functions\n",
        "\n",
        "Imagine that we were trying to plot the line that created by the function $f(x) = 2x + 3$\n",
        "\n",
        "How would we do it? Well, we would probably pick some simple $x$ values that exist near the origin and plug them in to see what their corresponding $y$ values were. It's clear that this is the equation for a line and we know that we're plotting these in $\\mathbb{R}^2$ we would probably make some kind of a table or list of points that are on the line and then \"connect the dots\" to plot it:\n",
        "\n",
        "Help me create some points that we would use to graph this line\n",
        "\n",
        "\\begin{align}\n",
        "\\text{Points: } (-2, y), (-1, y), (0, y), (1, y), (2, y)\n",
        "\\end{align}\n",
        "\n",
        "These points do not completely represent that function, but we know that lines have a constant slope, so we don't need to find every ordered pair in the line in order to be able to plot it.\n",
        "\n",
        "But say that we had some function where the only 5 inputs were the 5 that I gave you above and the only 5 outputs were the 5 that I gave you above. Tthis would be an odd function, and I don't know how we would define an equation for it. But what if we just let the ordered pairs themselves represent the function -the mapping from domain values to range values. We could create a set of ordered pairs that shows a mapping from domain values (x) to range values (y) where no domain value maps to the same range value twice. This set of ordered pairs is called a \"relation\"\n",
        "\n",
        "\\begin{align}\n",
        "\\text{Relation: } \\{(-2, -1), (-1, 1), (0, 3), (1, 5), (2, 7)\\}\n",
        "\\end{align}\n",
        "\n",
        "Although this relation isn't represented by a specific equation (because it's just 5 points). However it meets our definition of a function, so this set of ordered pairs which show a valid mapping of domain values to range values is a function. If we plot these 5 points it would be a bit sparse but it would pass the vertical line test. \n",
        "\n",
        "Relations that satisfy these conditions are functions. (albeit very simple ones)\n",
        "\n",
        "### Which of the following relations are functions?\n",
        "\n",
        "\\begin{align}\n",
        "\\text{Relation 1: } \\{(-2, -1), (-2, 1), (2, 3)\\}\n",
        "\\\\\n",
        "\\text{Relation 2: } \\{(-2, 5), (-1, 5), (0, 5)\\}\n",
        "\\\\\n",
        "\\text{Relation 3: } \\{(0, -1), (-1, 1), (0, 3)\\}\n",
        "\\end{align}"
      ]
    },
    {
      "cell_type": "markdown",
      "metadata": {
        "colab_type": "text",
        "id": "OCIUFXg-VPW4"
      },
      "source": [
        "## Linear Transformations (vector transformations)\n",
        "\n",
        "Lets look at the function $f(x) = 2x + 3$ again.\n",
        "\n",
        "This is how lower level math classes deal with functions, they put one number in as input and they get one output, but there's no reason why we need to limit functions to having just one input.\n",
        "\n",
        "What if I defined a function like this $g(x_1, x_2) = x_1+x_2$\n",
        "\n",
        "**_Side Note:_** I hope that if you weren't already comfortable with it that this kind of function notation, that it makes a lot more sense since you've been writing python functions and you recognize the things in the parenthesis as being the parameters of a function just like how we would write it in code.\n",
        "\n",
        "The above function $g$ requires a two-dimensional tuple of inputs (two inputs) and gives a single output. We would say that this function is a mapping from $\\mathbb{R}^2$ to $\\mathbb{R}$.\n",
        "\n",
        "Here's another function: $h(x_1, x_2, x_3) = (x_1 + 2, x_2 - x_3 )$\n",
        "\n",
        "What is the dimensionality of the domain compared to the range (codomain)? Can you see that this mapping takes sets of values points from a certain dimensionality and maps them to sets of values with a smaller dimensionality?\n"
      ]
    },
    {
      "cell_type": "markdown",
      "metadata": {
        "id": "m3W01giDEoFK",
        "colab_type": "text"
      },
      "source": [
        "$\\mathbb{R}^2 \\rightarrow \\mathbb{R} : f(x, y) = 5*x+10*y$\n",
        "\n",
        "$\\mathbb{R}^2 \\rightarrow \\mathbb{R}^2 : f(x, y) = (x+2*y, y-x)$\n",
        "\n",
        "$\\mathbb{R}^2 \\rightarrow \\mathbb{R}^3 : f(x, y) = (x+2*y, y-x, x*y)$\n",
        "\n",
        "$\\mathbb{R}^3 \\rightarrow \\mathbb{R}^2 : f(x, y, z) = (x+y*z, z-y*x)$\n",
        "\n",
        "$\\mathbb{R}^n \\rightarrow \\mathbb{R}^m : f(x_1, x_2,\\dots,x_n) = (y_1,y_2,\\dots,y_m)$\n",
        "\n",
        "$\\mathbb{R}^n \\rightarrow \\mathbb{R} : f(x_1, x_2,\\dots,x_n) = ||x|| = \\sqrt{x_1^2 + x_2^2 + \\dots + x_n^2}$"
      ]
    },
    {
      "cell_type": "markdown",
      "metadata": {
        "id": "Jqep6cG8EJHA",
        "colab_type": "text"
      },
      "source": [
        "\n",
        "## Vector Transformations\n",
        "\n",
        "For today, we're going to go easy on you and imagine a mapping of vectors from $\\mathbb{R}^2$ to $\\mathbb{R}^2$.  We're just going to work with transforming 2D vectors to some other vector in two dimensions. \n",
        "\n",
        "In linear algebra for a linear transformation to be valid it must meet the following two requirements:\n",
        "\n",
        "\\begin{align}\n",
        "T(u+v) = T(u)+T(v)\n",
        "\\\\\n",
        "T(cu) = cT(u)\n",
        "\\end{align}\n",
        "\n",
        "What these two properties mean is that scaling vectors is still valid and that a transformation of two vectors can be seen as the composition of smaller transformations (like scaled unit vectors added together). See 3Blue1Brown videos for more intuition on this.\n"
      ]
    },
    {
      "cell_type": "markdown",
      "metadata": {
        "colab_type": "text",
        "id": "7p5k0VeRoxIT"
      },
      "source": [
        "## Linear Transformations As Matrix-Vector Products\n",
        "\n",
        "What if I defined a mapping from $\\mathbb{R}^2$ to $\\mathbb{R}^2$ like so:\n",
        "\n",
        "\\begin{align}\n",
        "f(\\begin{bmatrix}x_1 \\\\ x_2\\end{bmatrix}) = \\begin{bmatrix} 2x_1 + x_2 \\\\ -3x_2 + x_1 \\\\  \\end{bmatrix}\n",
        "\\end{align}\n",
        "\n",
        "Well, remember how we can write any vector as a linear combination of scalars and basis vectors? How would I rewrite my input vector in those terms?\n",
        "\n",
        "\\begin{align}\n",
        "\\\\\n",
        "\\begin{bmatrix} x_1 \\\\ x_2 \\end{bmatrix} = x_1\\begin{bmatrix} 1 \\\\ 0 \\end{bmatrix} + x_2\\begin{bmatrix} 0 \\\\ 1 \\end{bmatrix}\n",
        "\\\\\n",
        "\\end{align}\n",
        "\n",
        "You might remember from the 3Blue1Brown video about linear transformations that they can be described as the composition of transformations of our basis vectors. rewriting our input vector in this way will help us see that.\n",
        "\n",
        "What if we evaluated our expression by passing in the unit vectors $\\hat{i}$ and $\\hat{j}$?\n",
        "\n",
        "\\begin{align}\n",
        "f(\\begin{bmatrix} 1 \\\\ 0 \\end{bmatrix}) = \\begin{bmatrix} 2 \\\\ 1 \\end{bmatrix}\n",
        "\\\\\n",
        "f(\\begin{bmatrix} 0 \\\\ 1 \\end{bmatrix}) = \\begin{bmatrix} 1 \\\\ -3 \\end{bmatrix}\n",
        "\\end{align}\n",
        "\n",
        "By passing in our unit vectors individually, We are essentially asking: Tell me what happens to all of the x values, and then tell me what happens to all of the y values individually. And the resulting vector will be a composition of how both the y values and x values change. \n",
        "\n",
        "The coolest part about passing in the unit vectors is that we've got two new vectors back that we can compose into a transformation matrix:\n",
        "\n",
        "\\begin{align}\n",
        "T = \\begin{bmatrix} 2 & 1 \\\\ 1 & -3 \\end{bmatrix}\n",
        "\\end{align}\n",
        "\n",
        "We can now describe the same function above as the product of matrix-vector multiplication between our resulting transformation vector and any vector in $\\mathbb{R^2}$.\n",
        "\n",
        "Lets test it! First lets use the original function to calculate the result of passing in \n",
        "\n",
        "\\begin{align}\n",
        "f(\\begin{bmatrix} 3 \\\\ 4 \\end{bmatrix}) = \\begin{bmatrix} 10 \\\\ -9 \\end{bmatrix}\n",
        "\\end{align}\n",
        "\n",
        "Now lets do it via matrix multiplication:\n",
        "\n",
        "\\begin{align}\n",
        "\\begin{bmatrix} 2 & 1 \\\\ 1 & -3 \\end{bmatrix}\\begin{bmatrix} 3 \\\\ 4 \\end{bmatrix} = \\begin{bmatrix} 10 \\\\ -9 \\end{bmatrix}\n",
        "\\end{align}\n",
        "\n",
        "Wild right???\n",
        "\n",
        "Because of the properties of linear transformations, we can describe any linear transformation as matrix vector multiplication where the columns of the transformation matrix come from the result of passing in the dimension appropriate unit vectors into the function. So cool that we could represent a much more traditional function (mapping) as matrix-vector multiplication because of the way that we can represent vectors as linear combinations of scalars and unit vectors. "
      ]
    },
    {
      "cell_type": "code",
      "metadata": {
        "colab_type": "code",
        "id": "R2zRiorVwA4w",
        "outputId": "10efca32-b2c1-4440-ed8e-85c3db2422ff",
        "colab": {
          "base_uri": "https://localhost:8080/",
          "height": 281
        }
      },
      "source": [
        "import matplotlib.pyplot as plt\n",
        "\n",
        "# Vectors\n",
        "input_vector = [3, 4]\n",
        "output_vector = [10, -9]\n",
        "\n",
        "# Plot the Vectors\n",
        "plt.arrow(0,0, input_vector[0], input_vector[1],head_width=.05, head_length=0.05, color ='red')\n",
        "plt.arrow(0,0, output_vector[0], output_vector[1],head_width=.05, head_length=0.05, color ='blue')\n",
        "plt.xlim(0,11)          \n",
        "plt.ylim(-10,5)\n",
        "plt.title(\"Transformed Vector\")\n",
        "plt.show()"
      ],
      "execution_count": 1,
      "outputs": [
        {
          "output_type": "display_data",
          "data": {
            "image/png": "[encoded data removed]",
            "text/plain": [
              "<Figure size 432x288 with 1 Axes>"
            ]
          },
          "metadata": {
            "tags": []
          }
        }
      ]
    },
    {
      "cell_type": "markdown",
      "metadata": {
        "colab_type": "text",
        "id": "C_aNp4uk8cRl"
      },
      "source": [
        "## Intro to Eigenvalues and Eigenvectors (Intuition)\n",
        "\n",
        "All vector-matrix multiplication can be thought of as a multi-dimensional transformation of space. (I hope that by now you're realizing how critical linear algebra is for representing multi-dimensional data.) This is hard for me to demonstrate without some cool animations so I'll have to rely upon 3Blue1Brown videos to help get you that intuition. Those videos are really the only place where I've seen that principle demonstrated even a little bit effectively.\n",
        "\n",
        "One thing that might not be immediately clear however, is that not all points in space get transformed in exactly the same way. Think about a transformation in $\\mathbb{R^3}$ where we rotate 3D space. You could imagine a globe spinning on its axis.\n",
        "\n",
        "![Globe Spinning GIF](https://thumbs.gfycat.com/FoolishLavishDeer-small.gif)\n",
        "\n",
        "When a globe rotates, does every point on the globe move the same distance in space? No, points closer to the pole move less than points near the equator (kinda weird if you think about it that people living near the equator are hurtling through space at a different rate than other latitudes). \n",
        "\n",
        "What about the vector represented by the earth's axis? Does it move? \n",
        "\n",
        "We could call this vector the **eigenvector** of the earth's rotation brecause the transformation does not reorient it. Any transformation that you could conceive of possesses eigenvectors - dimensions of space that are not pointed in a new direction by the transformation described by a certain transformation matrix. \n",
        "\n",
        "## So what's an eigenvalue?\n",
        "\n",
        "An eigenvector is any vector that doesn't change its orientation during a given transformation, but an eigenvector might still get scaled by some scalar. It can get stretched or squished, it just can't change the direction in which it is pointing. An **eigenvalue** is the scalar that represents how its corresponding eigenvector was scaled during the transformation. Eigenvectors and eigenvalues always come in pairs.\n",
        "\n",
        "What is the eigenvalue of the earth's axis when the earth rotates?\n",
        "\n",
        "## Finding Eigenvalues and Eigenvectors\n",
        "\n",
        "We don't have time to go over this today and it's one of the more complex processes in Linear Algebra. It usually involves a combination of a process called \"Matrix Diagonalization\" and Gaussian Elimination. If you're interested, you can look it up but that process is too complex for the time that we have today and I think you will be better served by focusing on an application of all of these concepts: **Principle Component Analysis (PCA)**\n",
        "\n",
        "## One More Thing\n",
        "\n",
        "What's the symbol commonly used to denote eigenvalues? - $\\lambda$ \n",
        "\n",
        "\\begin{align}\n",
        "T(v) = \\lambda v\n",
        "\\end{align}"
      ]
    },
    {
      "cell_type": "markdown",
      "metadata": {
        "colab_type": "text",
        "id": "sJTGZRWtR40J"
      },
      "source": [
        "# The Curse of Dimensionality\n",
        "\n",
        "The Curse of Dimensionality is a term that is used to refer to some of the challenges and limitations that arise from trying to process or model datasets with a large number of features. (hundreds or thousands)"
      ]
    },
    {
      "cell_type": "markdown",
      "metadata": {
        "colab_type": "text",
        "id": "Hgh7mTh02rwW"
      },
      "source": [
        "## What is a Dimension?\n",
        "\n",
        "Imagine that we have a dataset with 50 numeric datapoints. How would we graph a single column of data? Well, we have nothing else in the dataset to compare it to, so all that we can do is really plot the values on a one-dimensional number line."
      ]
    },
    {
      "cell_type": "code",
      "metadata": {
        "colab_type": "code",
        "id": "4j2kbuwd2-8Q",
        "outputId": "018ae460-8732-4cd5-8f28-f77031dc0d21",
        "colab": {
          "base_uri": "https://localhost:8080/",
          "height": 206
        }
      },
      "source": [
        "import pandas as pd\n",
        "import random\n",
        "import matplotlib.pyplot as plt\n",
        "import matplotlib.ticker as ticker\n",
        "import numpy as np\n",
        "\n",
        "# Create a list of 50 random floats and add them to a dataframe\n",
        "N = 50\n",
        "x = np.random.rand(N)*100\n",
        "\n",
        "# Crete Dataframe\n",
        "data = {\"x\": x}\n",
        "df = pd.DataFrame(data)\n",
        "df.head()"
      ],
      "execution_count": 2,
      "outputs": [
        {
          "output_type": "execute_result",
          "data": {
            "text/html": [
              "<div>\n",
              "<style scoped>\n",
              "    .dataframe tbody tr th:only-of-type {\n",
              "        vertical-align: middle;\n",
              "    }\n",
              "\n",
              "    .dataframe tbody tr th {\n",
              "        vertical-align: top;\n",
              "    }\n",
              "\n",
              "    .dataframe thead th {\n",
              "        text-align: right;\n",
              "    }\n",
              "</style>\n",
              "<table border=\"1\" class=\"dataframe\">\n",
              "  <thead>\n",
              "    <tr style=\"text-align: right;\">\n",
              "      <th></th>\n",
              "      <th>x</th>\n",
              "    </tr>\n",
              "  </thead>\n",
              "  <tbody>\n",
              "    <tr>\n",
              "      <th>0</th>\n",
              "      <td>21.908480</td>\n",
              "    </tr>\n",
              "    <tr>\n",
              "      <th>1</th>\n",
              "      <td>88.167990</td>\n",
              "    </tr>\n",
              "    <tr>\n",
              "      <th>2</th>\n",
              "      <td>49.927436</td>\n",
              "    </tr>\n",
              "    <tr>\n",
              "      <th>3</th>\n",
              "      <td>20.636707</td>\n",
              "    </tr>\n",
              "    <tr>\n",
              "      <th>4</th>\n",
              "      <td>83.285389</td>\n",
              "    </tr>\n",
              "  </tbody>\n",
              "</table>\n",
              "</div>"
            ],
            "text/plain": [
              "           x\n",
              "0  21.908480\n",
              "1  88.167990\n",
              "2  49.927436\n",
              "3  20.636707\n",
              "4  83.285389"
            ]
          },
          "metadata": {
            "tags": []
          },
          "execution_count": 2
        }
      ]
    },
    {
      "cell_type": "code",
      "metadata": {
        "colab_type": "code",
        "id": "4_QWXZ4E51Jm",
        "outputId": "1a23ba10-8f03-4b35-bed0-9f5765ca74fe",
        "colab": {
          "base_uri": "https://localhost:8080/",
          "height": 100
        }
      },
      "source": [
        "# Plot the floats on a number line\n",
        "\n",
        "# Setup a plot such that only the bottom spine is shown\n",
        "def setup(ax):\n",
        "    ax.spines['right'].set_color('none')\n",
        "    ax.spines['left'].set_color('none')\n",
        "    ax.yaxis.set_major_locator(ticker.NullLocator())\n",
        "    ax.spines['top'].set_color('none')\n",
        "    ax.xaxis.set_ticks_position('bottom')\n",
        "    ax.tick_params(which='major', width=1.00)\n",
        "    ax.tick_params(which='major', length=5)\n",
        "    ax.tick_params(which='minor', width=0.75)\n",
        "    ax.tick_params(which='minor', length=2.5)\n",
        "    ax.set_xlim(0, 100)\n",
        "    ax.set_ylim(0, 1)\n",
        "    ax.patch.set_alpha(0.0)\n",
        "    \n",
        "plt.figure(figsize=(8, 6))\n",
        "n = 8\n",
        "\n",
        "# Create some y values to satisfy matplotlib\n",
        "df['y'] = pd.Series(list(np.zeros(50)))\n",
        "\n",
        "# Multiple Locator tick mark settings\n",
        "ax = plt.subplot(n, 1, 2)\n",
        "setup(ax)\n",
        "ax.xaxis.set_major_locator(ticker.MultipleLocator(5))\n",
        "ax.text(0.0, 0.5, \"Number Line\", fontsize=14,\n",
        "        transform=ax.transAxes)\n",
        "\n",
        "# Push the top of the top axes outside the figure because we only show the\n",
        "# bottom spine.\n",
        "plt.subplots_adjust(left=0.05, right=0.95, bottom=0.05, top=1.05)\n",
        "plt.scatter(df.x, df.y, alpha=0.5)\n",
        "\n",
        "plt.show()"
      ],
      "execution_count": 3,
      "outputs": [
        {
          "output_type": "display_data",
          "data": {
            "image/png": "[encoded data removed]",
            "text/plain": [
              "<Figure size 576x432 with 1 Axes>"
            ]
          },
          "metadata": {
            "tags": []
          }
        }
      ]
    },
    {
      "cell_type": "markdown",
      "metadata": {
        "colab_type": "text",
        "id": "kgcagKZh_-JJ"
      },
      "source": [
        "### What a pain..."
      ]
    },
    {
      "cell_type": "markdown",
      "metadata": {
        "colab_type": "text",
        "id": "rgaFf9mgBLnR"
      },
      "source": [
        "## Two Dimensions\n",
        "What if I wanted to plot plot these points on a two-dimensional graph like a scatter plot? Well, I would need y values to tell the points where to go, or else they would just sit on the x-axis of the 2D graph. If we don't have any y values, the additional axis of the coordinate plane serves no purpose.\n",
        "\n",
        "The number line is a 1D graph with 1D data. Scatter plots are 2Ds graphs that facilitate 2D data."
      ]
    },
    {
      "cell_type": "code",
      "metadata": {
        "colab_type": "code",
        "id": "WIXbR9pxH5tn",
        "outputId": "6ac561d6-bac7-497e-e9c0-d276c7e649d2",
        "colab": {
          "base_uri": "https://localhost:8080/",
          "height": 281
        }
      },
      "source": [
        "plt.scatter(df['x'], df['y'], alpha=0.5)\n",
        "plt.title(\"Not a good use of a 2D Graph\")\n",
        "plt.show()"
      ],
      "execution_count": 5,
      "outputs": [
        {
          "output_type": "display_data",
          "data": {
            "image/png": "[encoded data removed]",
            "text/plain": [
              "<Figure size 432x288 with 1 Axes>"
            ]
          },
          "metadata": {
            "tags": []
          }
        }
      ]
    },
    {
      "cell_type": "code",
      "metadata": {
        "colab_type": "code",
        "id": "H__fjvFHJFR2",
        "outputId": "ea31ea2c-a374-4fe7-e707-fbc7a62745ba",
        "colab": {
          "base_uri": "https://localhost:8080/",
          "height": 206
        }
      },
      "source": [
        "# Generate 50 random y values and add them to the dataframe\n",
        "df['y'] = pd.Series(list(np.random.rand(N)*100))\n",
        "df.head()"
      ],
      "execution_count": 6,
      "outputs": [
        {
          "output_type": "execute_result",
          "data": {
            "text/html": [
              "<div>\n",
              "<style scoped>\n",
              "    .dataframe tbody tr th:only-of-type {\n",
              "        vertical-align: middle;\n",
              "    }\n",
              "\n",
              "    .dataframe tbody tr th {\n",
              "        vertical-align: top;\n",
              "    }\n",
              "\n",
              "    .dataframe thead th {\n",
              "        text-align: right;\n",
              "    }\n",
              "</style>\n",
              "<table border=\"1\" class=\"dataframe\">\n",
              "  <thead>\n",
              "    <tr style=\"text-align: right;\">\n",
              "      <th></th>\n",
              "      <th>x</th>\n",
              "      <th>y</th>\n",
              "    </tr>\n",
              "  </thead>\n",
              "  <tbody>\n",
              "    <tr>\n",
              "      <th>0</th>\n",
              "      <td>21.908480</td>\n",
              "      <td>33.078641</td>\n",
              "    </tr>\n",
              "    <tr>\n",
              "      <th>1</th>\n",
              "      <td>88.167990</td>\n",
              "      <td>90.837690</td>\n",
              "    </tr>\n",
              "    <tr>\n",
              "      <th>2</th>\n",
              "      <td>49.927436</td>\n",
              "      <td>6.924067</td>\n",
              "    </tr>\n",
              "    <tr>\n",
              "      <th>3</th>\n",
              "      <td>20.636707</td>\n",
              "      <td>47.693211</td>\n",
              "    </tr>\n",
              "    <tr>\n",
              "      <th>4</th>\n",
              "      <td>83.285389</td>\n",
              "      <td>0.913143</td>\n",
              "    </tr>\n",
              "  </tbody>\n",
              "</table>\n",
              "</div>"
            ],
            "text/plain": [
              "           x          y\n",
              "0  21.908480  33.078641\n",
              "1  88.167990  90.837690\n",
              "2  49.927436   6.924067\n",
              "3  20.636707  47.693211\n",
              "4  83.285389   0.913143"
            ]
          },
          "metadata": {
            "tags": []
          },
          "execution_count": 6
        }
      ]
    },
    {
      "cell_type": "code",
      "metadata": {
        "colab_type": "code",
        "id": "RuhA0WuNJWqm",
        "outputId": "8c60bdfc-5598-4320-9b0c-a28a8eefdabf",
        "colab": {
          "base_uri": "https://localhost:8080/",
          "height": 281
        }
      },
      "source": [
        "# Graph 2D data on a 2D plot\n",
        "plt.scatter(df['x'], df['y'], alpha=0.5)\n",
        "plt.title(\"A Better Use of a 2D Graph\")\n",
        "plt.show()"
      ],
      "execution_count": 7,
      "outputs": [
        {
          "output_type": "display_data",
          "data": {
            "image/png": "[encoded data removed]",
            "text/plain": [
              "<Figure size 432x288 with 1 Axes>"
            ]
          },
          "metadata": {
            "tags": []
          }
        }
      ]
    },
    {
      "cell_type": "markdown",
      "metadata": {
        "colab_type": "text",
        "id": "1i9iYRKcJuRd"
      },
      "source": [
        "### That's how easy the number line should have been... Somebody fix it and submit a Pull Request to Matplotlib\n",
        "![Drake Pointing](http://img2.thejournal.ie/answer/56054/rectangle?width=260&version=53090)"
      ]
    },
    {
      "cell_type": "markdown",
      "metadata": {
        "colab_type": "text",
        "id": "iesGye7YKck7"
      },
      "source": [
        "## Lets do 3-Dimensional Data on a 3-Dimensional Graph!\n",
        "\n",
        "I hope you've realized that the number of dimensions that we want to plot, the number of columns that is required in the dataframe. This is why you'll hear people refer to Dataframe columns: Columns, Features, and Dimensions, interchangeably."
      ]
    },
    {
      "cell_type": "code",
      "metadata": {
        "colab_type": "code",
        "id": "jWc5yMZPLe5B",
        "outputId": "6af9382c-6d95-4ba0-b109-25b63d8d723a",
        "colab": {
          "base_uri": "https://localhost:8080/",
          "height": 248
        }
      },
      "source": [
        "from mpl_toolkits.mplot3d import Axes3D\n",
        "\n",
        "# Add Z dimension to dataframe\n",
        "df['z'] = pd.Series(list(np.random.rand(N)*100))\n",
        "\n",
        "threedee = plt.figure().gca(projection='3d')\n",
        "threedee.scatter(df['x'], df['y'], df['z'])\n",
        "threedee.set_xlabel('X')\n",
        "threedee.set_ylabel('Y')\n",
        "threedee.set_zlabel('Z')\n",
        "plt.show()"
      ],
      "execution_count": 8,
      "outputs": [
        {
          "output_type": "display_data",
          "data": {
            "image/png": "[encoded data removed]",
            "text/plain": [
              "<Figure size 432x288 with 1 Axes>"
            ]
          },
          "metadata": {
            "tags": []
          }
        }
      ]
    },
    {
      "cell_type": "code",
      "metadata": {
        "id": "7lS069t2Vjb1",
        "colab_type": "code",
        "colab": {
          "base_uri": "https://localhost:8080/",
          "height": 617
        },
        "outputId": "8dce9ae6-57c9-473d-d567-94d86d4c4d64"
      },
      "source": [
        "import plotly.express as px\n",
        "\n",
        "fig = px.scatter_3d(df, x='x', y='y', z='z')\n",
        "fig.show()"
      ],
      "execution_count": 9,
      "outputs": [
        {
          "output_type": "display_data",
          "data": {
            "text/html": [
              "<html>\n",
              "<head><meta charset=\"utf-8\" /></head>\n",
              "<body>\n",
              "    <div>\n",
              "            <script src=\"https://cdnjs.cloudflare.com/ajax/libs/mathjax/2.7.5/MathJax.js?config=TeX-AMS-MML_SVG\"></script><script type=\"text/javascript\">if (window.MathJax) {MathJax.Hub.Config({SVG: {font: \"STIX-Web\"}});}</script>\n",
              "                <script type=\"text/javascript\">window.PlotlyConfig = {MathJaxConfig: 'local'};</script>\n",
              "        <script src=\"https://cdn.plot.ly/plotly-latest.min.js\"></script>    \n",
              "            <div id=\"a6aa2514-d8f8-4631-ac81-b1703ea20c29\" class=\"plotly-graph-div\" style=\"height:600px; width:100%;\"></div>\n",
              "            <script type=\"text/javascript\">\n",
              "                \n",
              "                    window.PLOTLYENV=window.PLOTLYENV || {};\n",
              "                    \n",
              "                if (document.getElementById(\"a6aa2514-d8f8-4631-ac81-b1703ea20c29\")) {\n",
              "                    Plotly.newPlot(\n",
              "                        'a6aa2514-d8f8-4631-ac81-b1703ea20c29',\n",
              "                        [{\"hoverlabel\": {\"namelength\": 0}, \"hovertemplate\": \"x=%{x}<br>y=%{y}<br>z=%{z}\", \"legendgroup\": \"\", \"marker\": {\"color\": \"#636efa\", \"symbol\": \"circle\"}, \"mode\": \"markers\", \"name\": \"\", \"scene\": \"scene\", \"showlegend\": false, \"type\": \"scatter3d\", \"x\": [21.90848000608634, 88.16798977406431, 49.92743641349256, 20.63670654559854, 83.28538931709127, 43.67903228673868, 51.116890736882915, 24.664629816156157, 78.41568982658389, 45.747444749317104, 28.806109876291362, 63.09089631282373, 89.6098928341472, 8.79020011662256, 96.62289472754033, 77.04190381869132, 60.477414263355115, 21.172838437157495, 66.85296370456875, 23.886274117784513, 77.27595660988466, 56.92274567994018, 18.66844524104705, 72.23527936954018, 56.58713865760955, 37.83520612955492, 68.67125855824125, 93.15427907274666, 77.36301461166198, 14.279772665371315, 43.37027225013286, 21.65208996119451, 81.7271275537904, 3.580592749654976, 59.19156036259743, 46.90863233441065, 79.81718504403726, 26.577424095625112, 22.999665764386435, 78.86436200423805, 59.348597192691265, 15.771513185594799, 6.737367465473576, 83.0524097384306, 95.13503476234419, 21.188361667580324, 46.61937030565498, 97.39420806496271, 18.744732161523437, 19.780309949866737], \"y\": [33.07864069243538, 90.83769033273116, 6.924067176627046, 47.693211180814565, 0.9131425665785842, 38.104721849618116, 86.28756743284967, 79.8941080057228, 95.74694856593214, 19.614698876695403, 92.83640774618469, 49.004440376387016, 85.9464453415246, 34.2482453502422, 93.25173557448694, 26.10317611635482, 67.10978225610718, 54.546706607090414, 41.95542301913613, 72.92852055123718, 95.74618398818623, 18.52920477601915, 1.7494313168502584, 40.87568167267731, 6.069765080676581, 14.996613620339028, 38.60129736576429, 47.13157424626269, 34.00097676058655, 38.74674530149934, 98.66135541288412, 17.896499042031955, 97.27574382633183, 38.014472176594914, 77.2240751230061, 19.590974033874186, 31.197674886108352, 77.45767694196994, 59.83025717200843, 94.10070661538809, 86.23305893259992, 92.72689321689859, 45.02453340409931, 15.420926031074789, 14.152749247303852, 61.139083415153706, 34.93490383778687, 9.8843366147088, 1.839646634237846, 54.046403041320325], \"z\": [24.37749323582745, 3.0482193030540006, 76.35712205408296, 80.58966666357243, 59.548472238512474, 10.284337560245827, 42.99171039714903, 81.34358832544135, 94.39388962215135, 5.307806734709997, 23.1463626670781, 24.410756854659287, 87.81932077410784, 33.631778554627054, 8.809392292530715, 51.064948548214716, 91.84422694039415, 6.802037050863485, 28.026529091856755, 38.74593310280468, 80.80281118728092, 50.38814338576172, 63.84809298383223, 33.39662110852787, 4.357160639129953, 26.975209886805864, 12.9170801075849, 91.00023152662061, 13.43367986670102, 49.99482438733952, 40.54662552510586, 16.586127600396907, 19.485789276857513, 14.738158413466184, 2.95302406296184, 64.96829327475194, 30.470263339546754, 86.61302395531287, 10.813514084847442, 33.907590796057264, 13.378045873862588, 83.34065700653761, 56.90792148473427, 46.994747418863156, 97.15812122288699, 72.11837162821, 12.261700858607893, 92.68142188073568, 94.54539517475004, 62.87940678706087]}],\n",
              "                        {\"height\": 600, \"legend\": {\"tracegroupgap\": 0}, \"margin\": {\"t\": 60}, \"scene\": {\"domain\": {\"x\": [0.0, 0.98], \"y\": [0.0, 1.0]}, \"xaxis\": {\"title\": {\"text\": \"x\"}}, \"yaxis\": {\"title\": {\"text\": \"y\"}}, \"zaxis\": {\"title\": {\"text\": \"z\"}}}, \"template\": {\"data\": {\"bar\": [{\"error_x\": {\"color\": \"#2a3f5f\"}, \"error_y\": {\"color\": \"#2a3f5f\"}, \"marker\": {\"line\": {\"color\": \"#E5ECF6\", \"width\": 0.5}}, \"type\": \"bar\"}], \"barpolar\": [{\"marker\": {\"line\": {\"color\": \"#E5ECF6\", \"width\": 0.5}}, \"type\": \"barpolar\"}], \"carpet\": [{\"aaxis\": {\"endlinecolor\": \"#2a3f5f\", \"gridcolor\": \"white\", \"linecolor\": \"white\", \"minorgridcolor\": \"white\", \"startlinecolor\": \"#2a3f5f\"}, \"baxis\": {\"endlinecolor\": \"#2a3f5f\", \"gridcolor\": \"white\", \"linecolor\": \"white\", \"minorgridcolor\": \"white\", \"startlinecolor\": \"#2a3f5f\"}, \"type\": \"carpet\"}], \"choropleth\": [{\"colorbar\": {\"outlinewidth\": 0, \"ticks\": \"\"}, \"type\": \"choropleth\"}], \"contour\": [{\"colorbar\": {\"outlinewidth\": 0, \"ticks\": \"\"}, \"colorscale\": [[0.0, \"#0d0887\"], [0.1111111111111111, \"#46039f\"], [0.2222222222222222, \"#7201a8\"], [0.3333333333333333, \"#9c179e\"], [0.4444444444444444, \"#bd3786\"], [0.5555555555555556, \"#d8576b\"], [0.6666666666666666, \"#ed7953\"], [0.7777777777777778, \"#fb9f3a\"], [0.8888888888888888, \"#fdca26\"], [1.0, \"#f0f921\"]], \"type\": \"contour\"}], \"contourcarpet\": [{\"colorbar\": {\"outlinewidth\": 0, \"ticks\": \"\"}, \"type\": \"contourcarpet\"}], \"heatmap\": [{\"colorbar\": {\"outlinewidth\": 0, \"ticks\": \"\"}, \"colorscale\": [[0.0, \"#0d0887\"], [0.1111111111111111, \"#46039f\"], [0.2222222222222222, \"#7201a8\"], [0.3333333333333333, \"#9c179e\"], [0.4444444444444444, \"#bd3786\"], [0.5555555555555556, \"#d8576b\"], [0.6666666666666666, \"#ed7953\"], [0.7777777777777778, \"#fb9f3a\"], [0.8888888888888888, \"#fdca26\"], [1.0, \"#f0f921\"]], \"type\": \"heatmap\"}], \"heatmapgl\": [{\"colorbar\": {\"outlinewidth\": 0, \"ticks\": \"\"}, \"colorscale\": [[0.0, \"#0d0887\"], [0.1111111111111111, \"#46039f\"], [0.2222222222222222, \"#7201a8\"], [0.3333333333333333, \"#9c179e\"], [0.4444444444444444, \"#bd3786\"], [0.5555555555555556, \"#d8576b\"], [0.6666666666666666, \"#ed7953\"], [0.7777777777777778, \"#fb9f3a\"], [0.8888888888888888, \"#fdca26\"], [1.0, \"#f0f921\"]], \"type\": \"heatmapgl\"}], \"histogram\": [{\"marker\": {\"colorbar\": {\"outlinewidth\": 0, \"ticks\": \"\"}}, \"type\": \"histogram\"}], \"histogram2d\": [{\"colorbar\": {\"outlinewidth\": 0, \"ticks\": \"\"}, \"colorscale\": [[0.0, \"#0d0887\"], [0.1111111111111111, \"#46039f\"], [0.2222222222222222, \"#7201a8\"], [0.3333333333333333, \"#9c179e\"], [0.4444444444444444, \"#bd3786\"], [0.5555555555555556, \"#d8576b\"], [0.6666666666666666, \"#ed7953\"], [0.7777777777777778, \"#fb9f3a\"], [0.8888888888888888, \"#fdca26\"], [1.0, \"#f0f921\"]], \"type\": \"histogram2d\"}], \"histogram2dcontour\": [{\"colorbar\": {\"outlinewidth\": 0, \"ticks\": \"\"}, \"colorscale\": [[0.0, \"#0d0887\"], [0.1111111111111111, \"#46039f\"], [0.2222222222222222, \"#7201a8\"], [0.3333333333333333, \"#9c179e\"], [0.4444444444444444, \"#bd3786\"], [0.5555555555555556, \"#d8576b\"], [0.6666666666666666, \"#ed7953\"], [0.7777777777777778, \"#fb9f3a\"], [0.8888888888888888, \"#fdca26\"], [1.0, \"#f0f921\"]], \"type\": \"histogram2dcontour\"}], \"mesh3d\": [{\"colorbar\": {\"outlinewidth\": 0, \"ticks\": \"\"}, \"type\": \"mesh3d\"}], \"parcoords\": [{\"line\": {\"colorbar\": {\"outlinewidth\": 0, \"ticks\": \"\"}}, \"type\": \"parcoords\"}], \"scatter\": [{\"marker\": {\"colorbar\": {\"outlinewidth\": 0, \"ticks\": \"\"}}, \"type\": \"scatter\"}], \"scatter3d\": [{\"line\": {\"colorbar\": {\"outlinewidth\": 0, \"ticks\": \"\"}}, \"marker\": {\"colorbar\": {\"outlinewidth\": 0, \"ticks\": \"\"}}, \"type\": \"scatter3d\"}], \"scattercarpet\": [{\"marker\": {\"colorbar\": {\"outlinewidth\": 0, \"ticks\": \"\"}}, \"type\": \"scattercarpet\"}], \"scattergeo\": [{\"marker\": {\"colorbar\": {\"outlinewidth\": 0, \"ticks\": \"\"}}, \"type\": \"scattergeo\"}], \"scattergl\": [{\"marker\": {\"colorbar\": {\"outlinewidth\": 0, \"ticks\": \"\"}}, \"type\": \"scattergl\"}], \"scattermapbox\": [{\"marker\": {\"colorbar\": {\"outlinewidth\": 0, \"ticks\": \"\"}}, \"type\": \"scattermapbox\"}], \"scatterpolar\": [{\"marker\": {\"colorbar\": {\"outlinewidth\": 0, \"ticks\": \"\"}}, \"type\": \"scatterpolar\"}], \"scatterpolargl\": [{\"marker\": {\"colorbar\": {\"outlinewidth\": 0, \"ticks\": \"\"}}, \"type\": \"scatterpolargl\"}], \"scatterternary\": [{\"marker\": {\"colorbar\": {\"outlinewidth\": 0, \"ticks\": \"\"}}, \"type\": \"scatterternary\"}], \"surface\": [{\"colorbar\": {\"outlinewidth\": 0, \"ticks\": \"\"}, \"colorscale\": [[0.0, \"#0d0887\"], [0.1111111111111111, \"#46039f\"], [0.2222222222222222, \"#7201a8\"], [0.3333333333333333, \"#9c179e\"], [0.4444444444444444, \"#bd3786\"], [0.5555555555555556, \"#d8576b\"], [0.6666666666666666, \"#ed7953\"], [0.7777777777777778, \"#fb9f3a\"], [0.8888888888888888, \"#fdca26\"], [1.0, \"#f0f921\"]], \"type\": \"surface\"}], \"table\": [{\"cells\": {\"fill\": {\"color\": \"#EBF0F8\"}, \"line\": {\"color\": \"white\"}}, \"header\": {\"fill\": {\"color\": \"#C8D4E3\"}, \"line\": {\"color\": \"white\"}}, \"type\": \"table\"}]}, \"layout\": {\"annotationdefaults\": {\"arrowcolor\": \"#2a3f5f\", \"arrowhead\": 0, \"arrowwidth\": 1}, \"colorscale\": {\"diverging\": [[0, \"#8e0152\"], [0.1, \"#c51b7d\"], [0.2, \"#de77ae\"], [0.3, \"#f1b6da\"], [0.4, \"#fde0ef\"], [0.5, \"#f7f7f7\"], [0.6, \"#e6f5d0\"], [0.7, \"#b8e186\"], [0.8, \"#7fbc41\"], [0.9, \"#4d9221\"], [1, \"#276419\"]], \"sequential\": [[0.0, \"#0d0887\"], [0.1111111111111111, \"#46039f\"], [0.2222222222222222, \"#7201a8\"], [0.3333333333333333, \"#9c179e\"], [0.4444444444444444, \"#bd3786\"], [0.5555555555555556, \"#d8576b\"], [0.6666666666666666, \"#ed7953\"], [0.7777777777777778, \"#fb9f3a\"], [0.8888888888888888, \"#fdca26\"], [1.0, \"#f0f921\"]], \"sequentialminus\": [[0.0, \"#0d0887\"], [0.1111111111111111, \"#46039f\"], [0.2222222222222222, \"#7201a8\"], [0.3333333333333333, \"#9c179e\"], [0.4444444444444444, \"#bd3786\"], [0.5555555555555556, \"#d8576b\"], [0.6666666666666666, \"#ed7953\"], [0.7777777777777778, \"#fb9f3a\"], [0.8888888888888888, \"#fdca26\"], [1.0, \"#f0f921\"]]}, \"colorway\": [\"#636efa\", \"#EF553B\", \"#00cc96\", \"#ab63fa\", \"#FFA15A\", \"#19d3f3\", \"#FF6692\", \"#B6E880\", \"#FF97FF\", \"#FECB52\"], \"font\": {\"color\": \"#2a3f5f\"}, \"geo\": {\"bgcolor\": \"white\", \"lakecolor\": \"white\", \"landcolor\": \"#E5ECF6\", \"showlakes\": true, \"showland\": true, \"subunitcolor\": \"white\"}, \"hoverlabel\": {\"align\": \"left\"}, \"hovermode\": \"closest\", \"mapbox\": {\"style\": \"light\"}, \"paper_bgcolor\": \"white\", \"plot_bgcolor\": \"#E5ECF6\", \"polar\": {\"angularaxis\": {\"gridcolor\": \"white\", \"linecolor\": \"white\", \"ticks\": \"\"}, \"bgcolor\": \"#E5ECF6\", \"radialaxis\": {\"gridcolor\": \"white\", \"linecolor\": \"white\", \"ticks\": \"\"}}, \"scene\": {\"xaxis\": {\"backgroundcolor\": \"#E5ECF6\", \"gridcolor\": \"white\", \"gridwidth\": 2, \"linecolor\": \"white\", \"showbackground\": true, \"ticks\": \"\", \"zerolinecolor\": \"white\"}, \"yaxis\": {\"backgroundcolor\": \"#E5ECF6\", \"gridcolor\": \"white\", \"gridwidth\": 2, \"linecolor\": \"white\", \"showbackground\": true, \"ticks\": \"\", \"zerolinecolor\": \"white\"}, \"zaxis\": {\"backgroundcolor\": \"#E5ECF6\", \"gridcolor\": \"white\", \"gridwidth\": 2, \"linecolor\": \"white\", \"showbackground\": true, \"ticks\": \"\", \"zerolinecolor\": \"white\"}}, \"shapedefaults\": {\"line\": {\"color\": \"#2a3f5f\"}}, \"ternary\": {\"aaxis\": {\"gridcolor\": \"white\", \"linecolor\": \"white\", \"ticks\": \"\"}, \"baxis\": {\"gridcolor\": \"white\", \"linecolor\": \"white\", \"ticks\": \"\"}, \"bgcolor\": \"#E5ECF6\", \"caxis\": {\"gridcolor\": \"white\", \"linecolor\": \"white\", \"ticks\": \"\"}}, \"title\": {\"x\": 0.05}, \"xaxis\": {\"automargin\": true, \"gridcolor\": \"white\", \"linecolor\": \"white\", \"ticks\": \"\", \"zerolinecolor\": \"white\", \"zerolinewidth\": 2}, \"yaxis\": {\"automargin\": true, \"gridcolor\": \"white\", \"linecolor\": \"white\", \"ticks\": \"\", \"zerolinecolor\": \"white\", \"zerolinewidth\": 2}}}},\n",
              "                        {\"responsive\": true}\n",
              "                    ).then(function(){\n",
              "                            \n",
              "var gd = document.getElementById('a6aa2514-d8f8-4631-ac81-b1703ea20c29');\n",
              "var x = new MutationObserver(function (mutations, observer) {{\n",
              "        var display = window.getComputedStyle(gd).display;\n",
              "        if (!display || display === 'none') {{\n",
              "            console.log([gd, 'removed!']);\n",
              "            Plotly.purge(gd);\n",
              "            observer.disconnect();\n",
              "        }}\n",
              "}});\n",
              "\n",
              "// Listen for the removal of the full notebook cells\n",
              "var notebookContainer = gd.closest('#notebook-container');\n",
              "if (notebookContainer) {{\n",
              "    x.observe(notebookContainer, {childList: true});\n",
              "}}\n",
              "\n",
              "// Listen for the clearing of the current output cell\n",
              "var outputEl = gd.closest('.output');\n",
              "if (outputEl) {{\n",
              "    x.observe(outputEl, {childList: true});\n",
              "}}\n",
              "\n",
              "                        })\n",
              "                };\n",
              "                \n",
              "            </script>\n",
              "        </div>\n",
              "</body>\n",
              "</html>"
            ]
          },
          "metadata": {
            "tags": []
          }
        }
      ]
    },
    {
      "cell_type": "markdown",
      "metadata": {
        "colab_type": "text",
        "id": "iz5aYvqQNuSv"
      },
      "source": [
        "## 3D Graphs on 2D screens are a lie... unless they can rotate.\n",
        "\n",
        "Unless this graph can rotate like a hologram it's a 2D graph that's trying really hard, yet failing to be a 3D graph. Look more closely at the pionts and you'll realize that you actually have no idea where they are at. You have no depth perception unless you can rotate the graph. This is something that's possible to do in iPython notebooks, but that I didn't want to mess with right now. You can explore it on your own. Some libraries will try and change the diameter of the points so that ones \"closer\" to the viewer have some kind of depth, but this is an imperfect solution."
      ]
    },
    {
      "cell_type": "markdown",
      "metadata": {
        "colab_type": "text",
        "id": "Zst4Ae8AOw9L"
      },
      "source": [
        "## What if we tried a spatially represent 4-Dimensional Data in a 4D graph?\n",
        "\n",
        "![Mind Blown](https://ih1.redbubble.net/image.400523286.2984/ap,550x550,16x12,1,transparent,t.u3.png)\n",
        "\n",
        "While it **is** technically possible to plot points on a 4-Dimensional graph, the result is by no means intuitive and suffers from even worse interpretation problems than the 3D graph.\n",
        "\n",
        "![Hyper Cube](http://www.zamandayolculuk.com/09/4d_quadiper.gif)\n",
        "\n",
        "A cube is 3-dimensional, so any representation larger than 3 dimensions is referred to as an n-dimensional hypercube in n-dimensional hyperspace. This is why in space movies/books they always zoom to \"hyperspace\" when they're trying to take a shortcut through the 3 spatial dimensions of our reality."
      ]
    },
    {
      "cell_type": "markdown",
      "metadata": {
        "colab_type": "text",
        "id": "XEsEK8SUR1zH"
      },
      "source": [
        "## Now Lets do a 1000 dimensional dataset!\n",
        "\n",
        "You see the problem? \n",
        "\n",
        "While the inability for the human brain to spatially comprehend more than 3 dimensions is not **really** the curse of dimensionality, this limitation of our human brain is related to some of the challenges of dealing with high-dimensional data.\n",
        "\n",
        "## A thought experiment\n",
        "\n",
        "A great explanation from a Quora user: (Sorry, I can't find the actual Quora post that this originated from) I've modified it a little bit as well.\n",
        "\n",
        "```\n",
        "Let's say you have a straight line 100 yards long and you dropped 10 pennies somewhere on it. It wouldn't be too hard to find one. You walk along the line and it takes a few seconds, maybe as long as a couple of minutes if you're unlucky.\n",
        "\n",
        "Now let's say you have a square 100 yards on each side and you dropped 10 pennies somewhere on it. It would be harder. The pennies are more spread out now. This is like searching across two football fields stuck together. It could take hours or days to find one. (on average, 10 times longer than the first time)\n",
        "\n",
        "Now imagine a cube 100 yards across. That's like searching a 30-story building the size of a football stadium. Ugh. (It's now 100 times harder to find a penny in this space than in the first example)\n",
        "\n",
        "The difficulty of searching through the space gets exponentially harder as you have more dimensions.\n",
        "```\n"
      ]
    },
    {
      "cell_type": "markdown",
      "metadata": {
        "colab_type": "text",
        "id": "cENzttkdUilw"
      },
      "source": [
        "## Challenges of High Dimensional Spaces\n",
        "\n",
        "### More difficult to explore the data and create visualizations\n",
        "\n",
        "<img src=\"https://seaborn.pydata.org/_images/seaborn-pairplot-1.png\" height=400 width=400>\n",
        "\n",
        "This pairplot shows us all of the possible scatterplots that could be created from a 4-dimensional dataset. Where the scatter plots would be plotted against themselves they have been replaced with histograms to show the distribution of a single variable.\n",
        "\n",
        "Question: How many scatter plots would you have to look at if you had 1000 dimensions in a dataset?\n",
        "\n",
        "- Remember that there are a lot of redundant scatterplots with pairplots\n",
        "\n",
        "### Diminishing returns to adding features (increased redundancy)\n",
        "Not every feature is as important as every other feature when it comes to capturing relationships in data. he likelihood of adding a feature that contributes meaningful signal to a particular predictive endeavor decreases with each additional dimension.\n",
        "\n",
        "A good example of this is Deep Learning image recognition tasks:\n",
        "\n",
        "![different resolution images](https://ccideas.com/wp-content/uploads/2012/02/hi-low-res.jpg)\n",
        "\n",
        "How does increasing the number of pixels (dimensions of an image) increase our ability to detect what the image is? \n",
        "\n",
        "If an extra dimension is more expensive to process but adds less value to a model, then at some point it isn't cost effective to add additional dimensions.\n",
        "\n",
        "### Increased computational workload\n",
        "\n",
        "Just like how it takes more time to find the pennies in the 100x100x100 yard cube.\n",
        "\n",
        "### Increased sparcity of data - Measures of distance (Euclidean) lose meaning \n",
        "\n",
        "As we add dimensions, our datapoints become more spread out. Just look at the difference between the 1-dimensional numberline and the 2-dimensional scatterplot that we did above. With each dimension that we add our datapoints spread out further, but at a decreasing rate. Eventually, in extremely high dimensional settings all datapoints appear to be more or less equidistant to one another. This is crippling to algorithms that rely upon measures of distance (Like Clustering for example). We'll talk more about this on Thursday! \n",
        "\n",
        "### Low number of observations relative to dimensions increases the risk of overfitting\n",
        "\n",
        "![Overfitting vs Underfitting](https://cdn-images-1.medium.com/max/1125/1*_7OPgojau8hkiPUiHoGK_w.png)\n",
        "\n",
        "The the degree to which increased dimensions can lead to overfitting varies from model to model. The above images are examples of a linear regression model that is attempting to fit a good line through the data. We'll talk about this extensively next week, but linear regression models can be curved, You've typically seen a straight line cutting through a cloud of points, but just no that fitting a curve to a cloud of points doesn't violate the linearity of the model equation. Don't worry about this too much right now.\n",
        "\n",
        "With a linear regression you can create a bend in the line of best fit by introducing another parameter. This parameter has to come from your dataset as another feature (or dimension). If my cloud of points is made up of only 9 data points, then I can curve my line of best fit exactly through each point by including 9 parameters. When discussing this aspect of the Curse of Dimensionality we will abbreviate the number of parameters that we are including in the model (dimensions, features) as **P** and the number of observations (rows in a dataset) as **N**. \n",
        "\n",
        "If **P** $\\geq$ **N** then I am at extreme risk of overfitting my model. Overfitting means that my model has fit to the noise or variance or the data rather than the acutal signal or phenomenon that we are trying to model. This damages the predictive accuracy of a model and makes it so that our model will not be able to generalize (perform well) to new data that it hasn't seen before.\n",
        "\n",
        "### Rules of Thumb\n",
        "\n",
        "While these rules of thumb can vary from model to model, some say that you should always make sure that you have 5 times the number of observations as you have parameters in your model. This is an easier task for some models than others. Some practitioners hold a more extreme view and say that the number of observations should be the square of the number of parameters. I think this is silly once you get to truly high numbers of dimensions, but some people are adamant about it (past professors of mine who really didn't deal with really high numbers of dimensions in their work and were blind to the existence of any other statistical approaches).\n"
      ]
    },
    {
      "cell_type": "markdown",
      "metadata": {
        "colab_type": "text",
        "id": "VfLKz4VmnJGB"
      },
      "source": [
        "## Remember This: \n",
        "\n",
        "### You're in grave danger of overfitting if P $\\geq$ N\n",
        "### Make sure you have N = 5P (as a minimum)\n",
        "### Having more observations is almost always better\n",
        "### More data in terms of additional dimensions has diminishing value"
      ]
    },
    {
      "cell_type": "markdown",
      "metadata": {
        "colab_type": "text",
        "id": "ori1ULFLVBXF"
      },
      "source": [
        "## Solutions \n",
        "\n",
        "### Discard Redundant or \n",
        "### Get More Data - LOTS more data\n",
        "### Don't measure similarity via Euclidean Distance\n",
        "### Get More Data - more observations not more features\n",
        "\n",
        "More data covereth a multitude of sins.\n"
      ]
    },
    {
      "cell_type": "markdown",
      "metadata": {
        "colab_type": "text",
        "id": "AW2DajrOPCp7"
      },
      "source": [
        "# Dimensionality Reduction Techniques:\n",
        "\n",
        "The Curse of Dimensionality means that as \"Big Data\" gets bigger and bigger the challenges associated with it become more difficult. Not only is it difficult to explore and visualize high dimensional data, but also certain intuitions that exist in 2d or 3d space begin to betray us (distance between points for example). Also models that have a high feature to observation ratio are more prone to overfitting. \n",
        "\n",
        "What if we could take Big Data and make it smaller while still retaining most of its substance? In Machine Learning there are a whole host of Dimensionality Reduction Techniques that enable us to do exactly that. (with some tradeoffs - like always.)"
      ]
    },
    {
      "cell_type": "markdown",
      "metadata": {
        "colab_type": "text",
        "id": "y8jR-MdQgdHV"
      },
      "source": [
        "## Feature Selection: \n",
        "\n",
        "Say we have 100 features in our dataset. Instead with fighting with all of them, what if we just used the ones that contributed the most. Feature Selection refers to methods of filtering irrelevant or redundant features from our dataset."
      ]
    },
    {
      "cell_type": "markdown",
      "metadata": {
        "colab_type": "text",
        "id": "1KazJzMcgaNO"
      },
      "source": [
        "## Feature Extraction:\n",
        "\n",
        "Feature Extraction creates a new, smaller set of features that stills captures most of the useful information. Feature selection finds a suitable subset of a dataset's features, feature extraction creates new ones altogether. PCA is a Feature Extraction method."
      ]
    },
    {
      "cell_type": "markdown",
      "metadata": {
        "colab_type": "text",
        "id": "M-1dvyzVQlnB"
      },
      "source": [
        "# Principal Component Analysis (PCA) \n",
        "\n",
        "PCA is a technique that transforms a high dimensional dataset into a new lower dimensional dataset while preserving the maximum amount of information from the original data"
      ]
    },
    {
      "cell_type": "markdown",
      "metadata": {
        "colab_type": "text",
        "id": "nXPGw6hf8p72"
      },
      "source": [
        "# Variance == Information\n",
        "\n",
        "Imagine you were making shadow puppets by putting your hand in front of some light source that was projecting onto a wall.\n",
        "\n",
        "If you want the shadow that was being cast onto the wall to be very recognizable as a hand which way would you orient your hand? (kill screenshare)\n",
        "\n",
        "Why is that orientation more recognizeable as a hand than other orientations?\n",
        "\n",
        "## What is shown in the image below?\n",
        "\n",
        "![Mystery Image](https://lambdachops.com/img/mystery-image.png)\n",
        "\n",
        "What about with clouds of data points?\n",
        "\n",
        "<http://setosa.io/ev/principal-component-analysis/>"
      ]
    },
    {
      "cell_type": "code",
      "metadata": {
        "colab_type": "code",
        "id": "TIyQpHtZkKLV",
        "outputId": "6d7047bb-5f49-41aa-eb2e-85f03008dc9d",
        "colab": {
          "base_uri": "https://localhost:8080/",
          "height": 352
        }
      },
      "source": [
        "import pandas as pd\n",
        "import matplotlib.pyplot as plt\n",
        "\n",
        "x = [-2.2,-2,-2,-1,-1,0,0,1,1,2,2,2.2]\n",
        "y = [0,.5,-.5,.8,-.8,.9,-.9,.8,-.8,.5,-.5,0]\n",
        "\n",
        "print(len(x))\n",
        "print(len(y))\n",
        "\n",
        "data = {\"x\": x, \"y\": y}\n",
        "\n",
        "df = pd.DataFrame(data)\n",
        "\n",
        "axes = plt.gca()\n",
        "plt.axes().set_aspect('equal')\n",
        "plt.scatter(df['x'], df['y'])"
      ],
      "execution_count": 10,
      "outputs": [
        {
          "output_type": "stream",
          "text": [
            "12\n",
            "12\n"
          ],
          "name": "stdout"
        },
        {
          "output_type": "stream",
          "text": [
            "/usr/local/lib/python3.6/dist-packages/matplotlib/figure.py:98: MatplotlibDeprecationWarning:\n",
            "\n",
            "\n",
            "Adding an axes using the same arguments as a previous axes currently reuses the earlier instance.  In a future version, a new instance will always be created and returned.  Meanwhile, this warning can be suppressed, and the future behavior ensured, by passing a unique label to each axes instance.\n",
            "\n"
          ],
          "name": "stderr"
        },
        {
          "output_type": "execute_result",
          "data": {
            "text/plain": [
              "<matplotlib.collections.PathCollection at 0x7ff56c49cba8>"
            ]
          },
          "metadata": {
            "tags": []
          },
          "execution_count": 10
        },
        {
          "output_type": "display_data",
          "data": {
            "image/png": "[encoded data removed]",
            "text/plain": [
              "<Figure size 432x288 with 1 Axes>"
            ]
          },
          "metadata": {
            "tags": []
          }
        }
      ]
    },
    {
      "cell_type": "markdown",
      "metadata": {
        "colab_type": "text",
        "id": "atKeYAldByDk"
      },
      "source": [
        "Imagine that the data pictured above is a scatterplot of two explanatory variables. Lets pretend that we could only keep one of them. To remove the one that we don't need, we're going to collapse this data along one of its dimensions. \n",
        "\n",
        "We could choose to project all of these datapoints onto the x-axis or onto the y-axis, which axis should we project the data points onto? Which one preserves more information?"
      ]
    },
    {
      "cell_type": "code",
      "metadata": {
        "colab_type": "code",
        "id": "pZAoMCOaArYk",
        "outputId": "902072d8-59c0-4fb3-bdec-feac8ac82fe2",
        "colab": {
          "base_uri": "https://localhost:8080/",
          "height": 396
        }
      },
      "source": [
        "import math\n",
        "\n",
        "x1 = [-2.2,-2,-2,-1,-1,0,0,1,1,2,2,2.2]\n",
        "y1 = [0,.5,-.5,.8,-.8,.9,-.9,.8,-.8,.5,-.5,0]\n",
        "\n",
        "data = {\"x\": x1, \"y\": y1}\n",
        "\n",
        "df1 = pd.DataFrame(data)\n",
        "\n",
        "df1[\"x_rotate\"] = df1.apply(lambda x: (x.x+x.y)/math.sqrt(2), axis=1)\n",
        "df1[\"y_rotate\"] = df1.apply(lambda x: (x.y-x.x)/math.sqrt(2), axis=1)\n",
        "\n",
        "axes = plt.gca()\n",
        "plt.axes().set_aspect('equal')\n",
        "plt.scatter(df1['x_rotate'], df1['y_rotate'])"
      ],
      "execution_count": 11,
      "outputs": [
        {
          "output_type": "stream",
          "text": [
            "/usr/local/lib/python3.6/dist-packages/matplotlib/figure.py:98: MatplotlibDeprecationWarning:\n",
            "\n",
            "\n",
            "Adding an axes using the same arguments as a previous axes currently reuses the earlier instance.  In a future version, a new instance will always be created and returned.  Meanwhile, this warning can be suppressed, and the future behavior ensured, by passing a unique label to each axes instance.\n",
            "\n"
          ],
          "name": "stderr"
        },
        {
          "output_type": "execute_result",
          "data": {
            "text/plain": [
              "<matplotlib.collections.PathCollection at 0x7ff56c40a198>"
            ]
          },
          "metadata": {
            "tags": []
          },
          "execution_count": 11
        },
        {
          "output_type": "display_data",
          "data": {
            "image/png": "[encoded data removed]",
            "text/plain": [
              "<Figure size 432x288 with 1 Axes>"
            ]
          },
          "metadata": {
            "tags": []
          }
        }
      ]
    },
    {
      "cell_type": "markdown",
      "metadata": {
        "colab_type": "text",
        "id": "v_pFspXxFhIq"
      },
      "source": [
        "What if our data didn't lie as cleanly on the x or y axis? How would we then know along what dimension to perform our linear projection?\n",
        "\n",
        "Well, the dimension that cuts nicely through this cloud of points is the dimension that maximizes the variance of points along it. "
      ]
    },
    {
      "cell_type": "code",
      "metadata": {
        "colab_type": "code",
        "id": "UnBuCSyGC7q3",
        "colab": {}
      },
      "source": [
        ""
      ],
      "execution_count": 0,
      "outputs": []
    },
    {
      "cell_type": "markdown",
      "metadata": {
        "colab_type": "text",
        "id": "mz5yaQc5GhBe"
      },
      "source": [
        "# The PCA Process:\n",
        "\n",
        "## 1) Separate your data into X and Y, variables.\n",
        "\n",
        "Remember that the y variable is the \"label\" or the \"target\" it's the thing that we want to predict. our X variables are all of the features of our data that are going ot help us to predict Y.\n",
        "\n",
        "## 2) Center each column at 0 by subtracting its mean.\n",
        "\n",
        "Take the matrix of independent variables $X$ and, for each column, subtract the mean of that column from each entry. (This ensures that each column has a mean of zero.)\n",
        "\n",
        "If we don't do this then it will appear as if one component explains most of the variance in the data and the other components explain very little.  \n",
        "\n",
        "## 3) Divide each column by its standard deviation.\n",
        "\n",
        "This completes the process of \"standardizing\" our data - giving it a mean of 0 and a standard deviation of 1. Just like we standardized our variance and covariance, this now makes the variances of our different features comparable and removes some of the concerns that were brought up when we talked about the rotated elipse of points.\n",
        " \n",
        "We'll call the new standardized matrix the $Z$ matrix.\n",
        "\n",
        "## 4) Calculate the Variance-Covariance matrix of Z. \n",
        "\n",
        "Do this by calculating $Z^{T}Z$ Mind blown! - Multiplying a matrix by its transpose yields the variance-covariance matrix. \n",
        "\n",
        "## 5) Calculate the Eigenvectors and Eigenvalues of the Variance-Covariance Matrix.\n",
        "\n",
        "What are the Eigenvectors and Eigenvalues of the Variance-Covariance Matrix? The eigenvectors are those that run along the dimensions that maximize the variance along that dimension. Remember our rotated elipse example? When we moved our elipse off of the x and y axis we then didn't know what line we should project the points onto so that they we could collapse the dimension of least variance. Well now we do!\n",
        "\n",
        "## 6) Sort the Eigenvalue and Eigenvector Pairs.\n",
        "\n",
        "We'll sort our eigenvalue eigenvector pairs that resulted from the eigendecomposition of the variance-covariance matrix. We'll sort them by their eigenvalues in descending order. Since the eigenvalues tell us how to scale an eigenvector. The largest eigenvalue corresponds to the direction of greatest variance in the data. The eigenvalue eigenvector pair with the largest eigenvalue will be Principal Component 1\n",
        "\n",
        "## 7) Use a matrix transformation to project the datapoints onto our eigenvector subspaces. \n",
        "\n",
        "This final step is what makes it so that if we plot our transformed data our principal components will be alined with the axis of our graph. "
      ]
    },
    {
      "cell_type": "code",
      "metadata": {
        "colab_type": "code",
        "id": "YsA0bJKEM6Su",
        "outputId": "9891729e-5866-4118-8eac-614d7221e7d8",
        "colab": {
          "base_uri": "https://localhost:8080/",
          "height": 195
        }
      },
      "source": [
        "import numpy as np\n",
        "import pandas as pd\n",
        "import matplotlib.pyplot as plt\n",
        "\n",
        "gallons_consumed = np.random.randint(200, 2000, size=100)\n",
        "gallons_consumed"
      ],
      "execution_count": 13,
      "outputs": [
        {
          "output_type": "execute_result",
          "data": {
            "text/plain": [
              "array([ 613,  541,  401,  777, 1947,  658, 1558,  573, 1818,  740, 1476,\n",
              "       1698, 1680,  890, 1078, 1004,  205,  817, 1070, 1267, 1753,  654,\n",
              "       1086,  280,  933, 1591,  626,  964, 1035,  731, 1693, 1153, 1315,\n",
              "       1550, 1481, 1123, 1339,  745,  993,  952, 1084,  749,  214, 1630,\n",
              "        304,  517, 1575, 1902, 1251, 1456,  536,  621, 1100, 1511,  950,\n",
              "       1471, 1158, 1528, 1627,  907,  349,  407,  447, 1078, 1318,  334,\n",
              "       1796,  299, 1737,  447,  748,  308,  378, 1959,  209,  523,  292,\n",
              "        704,  268, 1426, 1201, 1132, 1466, 1453, 1565,  425,  468,  255,\n",
              "       1728,  912,  798, 1350,  479,  335, 1408,  392,  752,  480,  674,\n",
              "        808])"
            ]
          },
          "metadata": {
            "tags": []
          },
          "execution_count": 13
        }
      ]
    },
    {
      "cell_type": "code",
      "metadata": {
        "id": "G2HsWAS4hlkR",
        "colab_type": "code",
        "colab": {
          "base_uri": "https://localhost:8080/",
          "height": 462
        },
        "outputId": "2f9b71de-64e8-418b-b3f1-d2b338cc48f8"
      },
      "source": [
        "miles_driven = 20*gallons_consumed + 10000*np.random.normal(size=len(gallons_consumed))\n",
        "miles_driven"
      ],
      "execution_count": 64,
      "outputs": [
        {
          "output_type": "execute_result",
          "data": {
            "text/plain": [
              "array([  7788.28741143,   4556.97647581,   -602.15902313,  16650.80372226,\n",
              "        38936.96630502,  17019.27862644,  40861.28725597,  34038.39509721,\n",
              "        31437.8259314 ,  14239.3637602 ,  23591.5699002 ,  40066.02016048,\n",
              "        34933.18721041,  25801.20568246,  18128.56528126,  13429.15758192,\n",
              "       -17645.93949555,   6348.23185239,  20325.31629975,  33749.68046775,\n",
              "        43351.49580036,  14790.42860454,  27725.53106776,   8085.70291687,\n",
              "         6737.98872192,  40548.84840632,  24020.32108351,  19545.71992113,\n",
              "        17227.42889089,  34765.80774127,  34987.61847889,   8872.30621002,\n",
              "        27298.97969097,  39900.79064614,  23460.87686519,  35413.08069893,\n",
              "        26542.15058217,  11237.74260181,   9360.76116141,  -5165.61715178,\n",
              "        -6458.93696311,  16426.7682631 ,    342.35062202,  28747.57152618,\n",
              "         1420.63841999,  17275.82270283,  39225.13504482,  43162.13200233,\n",
              "        16221.36730872,  28683.62487043,   7823.35843738,   8064.61097024,\n",
              "        26132.98722809,  12333.8225681 ,  18557.21794125,  32778.52582505,\n",
              "        16737.68254966,  24630.5184898 ,  30605.02809612,  24772.11246975,\n",
              "       -17794.61606455,   7279.6865495 ,  13091.36839967,  12016.32269435,\n",
              "        38216.29417622,  10394.53422484,  34695.40244089,  11666.77105329,\n",
              "        43344.47261117,  -4181.08172667,  23971.9434723 ,   6237.04381307,\n",
              "        21313.3008226 ,  41223.89634994,   7365.28046806,   6113.59364932,\n",
              "        -3655.42073454,  23677.55315696, -15587.85194174,  28162.85049983,\n",
              "        37197.00637855,   8409.46770899,  47050.96438057,  35398.30273257,\n",
              "        35392.96300153,  -3684.45284229,  21708.46501077,   3972.43868498,\n",
              "        15991.78749337,  18512.47687939,   7462.97691704,  33438.6129848 ,\n",
              "        28510.9306347 ,   8768.71631461,  35300.56983042,  27377.11482336,\n",
              "         2300.94369328,  -4800.00029099,   7479.83344455,  32540.62548022])"
            ]
          },
          "metadata": {
            "tags": []
          },
          "execution_count": 64
        }
      ]
    },
    {
      "cell_type": "code",
      "metadata": {
        "id": "hZ-1iRMMhloB",
        "colab_type": "code",
        "colab": {
          "base_uri": "https://localhost:8080/",
          "height": 206
        },
        "outputId": "fa9ff570-2292-4ed0-8c9a-e2b51a9059fd"
      },
      "source": [
        "X = pd.DataFrame({'gallons_consumed': gallons_consumed, 'miles_driven': miles_driven})\n",
        "X.head()"
      ],
      "execution_count": 65,
      "outputs": [
        {
          "output_type": "execute_result",
          "data": {
            "text/html": [
              "<div>\n",
              "<style scoped>\n",
              "    .dataframe tbody tr th:only-of-type {\n",
              "        vertical-align: middle;\n",
              "    }\n",
              "\n",
              "    .dataframe tbody tr th {\n",
              "        vertical-align: top;\n",
              "    }\n",
              "\n",
              "    .dataframe thead th {\n",
              "        text-align: right;\n",
              "    }\n",
              "</style>\n",
              "<table border=\"1\" class=\"dataframe\">\n",
              "  <thead>\n",
              "    <tr style=\"text-align: right;\">\n",
              "      <th></th>\n",
              "      <th>gallons_consumed</th>\n",
              "      <th>miles_driven</th>\n",
              "    </tr>\n",
              "  </thead>\n",
              "  <tbody>\n",
              "    <tr>\n",
              "      <th>0</th>\n",
              "      <td>613</td>\n",
              "      <td>7788.287411</td>\n",
              "    </tr>\n",
              "    <tr>\n",
              "      <th>1</th>\n",
              "      <td>541</td>\n",
              "      <td>4556.976476</td>\n",
              "    </tr>\n",
              "    <tr>\n",
              "      <th>2</th>\n",
              "      <td>401</td>\n",
              "      <td>-602.159023</td>\n",
              "    </tr>\n",
              "    <tr>\n",
              "      <th>3</th>\n",
              "      <td>777</td>\n",
              "      <td>16650.803722</td>\n",
              "    </tr>\n",
              "    <tr>\n",
              "      <th>4</th>\n",
              "      <td>1947</td>\n",
              "      <td>38936.966305</td>\n",
              "    </tr>\n",
              "  </tbody>\n",
              "</table>\n",
              "</div>"
            ],
            "text/plain": [
              "   gallons_consumed  miles_driven\n",
              "0               613   7788.287411\n",
              "1               541   4556.976476\n",
              "2               401   -602.159023\n",
              "3               777  16650.803722\n",
              "4              1947  38936.966305"
            ]
          },
          "metadata": {
            "tags": []
          },
          "execution_count": 65
        }
      ]
    },
    {
      "cell_type": "code",
      "metadata": {
        "id": "-LcuaF9Rhlgj",
        "colab_type": "code",
        "colab": {
          "base_uri": "https://localhost:8080/",
          "height": 296
        },
        "outputId": "a69f766f-4f66-4bea-e461-eae9e783bb30"
      },
      "source": [
        "plt.scatter(X['gallons_consumed'], X['miles_driven'])\n",
        "plt.xlabel('gallons_consumed')\n",
        "plt.ylabel('miles_driven')\n",
        "plt.title('Data before PCA');"
      ],
      "execution_count": 66,
      "outputs": [
        {
          "output_type": "display_data",
          "data": {
            "image/png": "[encoded data removed]",
            "text/plain": [
              "<Figure size 432x288 with 1 Axes>"
            ]
          },
          "metadata": {
            "tags": []
          }
        }
      ]
    },
    {
      "cell_type": "code",
      "metadata": {
        "colab_type": "code",
        "id": "V6yHvmJ6Pk65",
        "outputId": "f910d9a5-948f-4cc9-fd75-20d5d7c0adb0",
        "colab": {
          "base_uri": "https://localhost:8080/",
          "height": 88
        }
      },
      "source": [
        "mean = X.mean()\n",
        "print(f'Mean:\\n{mean}')"
      ],
      "execution_count": 67,
      "outputs": [
        {
          "output_type": "stream",
          "text": [
            "Mean:\n",
            "gallons_consumed      980.07000\n",
            "miles_driven        19257.25409\n",
            "dtype: float64\n"
          ],
          "name": "stdout"
        }
      ]
    },
    {
      "cell_type": "code",
      "metadata": {
        "id": "6g2tK5j2jKJb",
        "colab_type": "code",
        "colab": {
          "base_uri": "https://localhost:8080/",
          "height": 35
        },
        "outputId": "02a2eca0-ee9d-446f-988b-7a47b505fb2f"
      },
      "source": [
        "centered_data = X - mean\n",
        "centered_data['gallons_consumed'].mean(), centered_data['miles_driven'].mean()"
      ],
      "execution_count": 68,
      "outputs": [
        {
          "output_type": "execute_result",
          "data": {
            "text/plain": [
              "(-5.456968210637569e-14, -7.239577826112509e-12)"
            ]
          },
          "metadata": {
            "tags": []
          },
          "execution_count": 68
        }
      ]
    },
    {
      "cell_type": "code",
      "metadata": {
        "id": "tzi25-BdkEdj",
        "colab_type": "code",
        "colab": {
          "base_uri": "https://localhost:8080/",
          "height": 35
        },
        "outputId": "ae19bcf4-30ce-46bb-ef40-71c37472d9bb"
      },
      "source": [
        "centered_data['gallons_consumed'].std(), X['gallons_consumed'].std()"
      ],
      "execution_count": 69,
      "outputs": [
        {
          "output_type": "execute_result",
          "data": {
            "text/plain": [
              "(500.6117723003092, 500.6117723003092)"
            ]
          },
          "metadata": {
            "tags": []
          },
          "execution_count": 69
        }
      ]
    },
    {
      "cell_type": "code",
      "metadata": {
        "id": "uHMW-vFEjKQs",
        "colab_type": "code",
        "colab": {
          "base_uri": "https://localhost:8080/",
          "height": 106
        },
        "outputId": "d9267e80-9bbe-40db-9966-b09f76713aab"
      },
      "source": [
        "standard_data = centered_data/centered_data.std(ddof=0)\n",
        "standard_data.std(), standard_data.mean()"
      ],
      "execution_count": 70,
      "outputs": [
        {
          "output_type": "execute_result",
          "data": {
            "text/plain": [
              "(gallons_consumed    1.005038\n",
              " miles_driven        1.005038\n",
              " dtype: float64, gallons_consumed   -5.273559e-17\n",
              " miles_driven       -4.896084e-16\n",
              " dtype: float64)"
            ]
          },
          "metadata": {
            "tags": []
          },
          "execution_count": 70
        }
      ]
    },
    {
      "cell_type": "code",
      "metadata": {
        "id": "zPXOmuHKjKNs",
        "colab_type": "code",
        "colab": {
          "base_uri": "https://localhost:8080/",
          "height": 53
        },
        "outputId": "0a22c7dd-96ea-4f6d-b977-1610cf761a5c"
      },
      "source": [
        "covariance_matrix = np.cov(standard_data.T)\n",
        "covariance_matrix"
      ],
      "execution_count": 71,
      "outputs": [
        {
          "output_type": "execute_result",
          "data": {
            "text/plain": [
              "array([[1.01010101, 0.74274021],\n",
              "       [0.74274021, 1.01010101]])"
            ]
          },
          "metadata": {
            "tags": []
          },
          "execution_count": 71
        }
      ]
    },
    {
      "cell_type": "code",
      "metadata": {
        "id": "cP1wLedwjKGI",
        "colab_type": "code",
        "colab": {
          "base_uri": "https://localhost:8080/",
          "height": 35
        },
        "outputId": "92e1f973-5792-4d8c-8f3e-e2590f0e8318"
      },
      "source": [
        "values, vectors = np.linalg.eig(covariance_matrix)\n",
        "values # eigen values"
      ],
      "execution_count": 72,
      "outputs": [
        {
          "output_type": "execute_result",
          "data": {
            "text/plain": [
              "array([0.2673608 , 1.75284122])"
            ]
          },
          "metadata": {
            "tags": []
          },
          "execution_count": 72
        }
      ]
    },
    {
      "cell_type": "code",
      "metadata": {
        "colab_type": "code",
        "id": "ncjBR4o1QUIB",
        "outputId": "c25fe3e2-73bb-4b37-b95d-3d9c485dc1b7",
        "colab": {
          "base_uri": "https://localhost:8080/",
          "height": 53
        }
      },
      "source": [
        "vectors # eigen vectors"
      ],
      "execution_count": 73,
      "outputs": [
        {
          "output_type": "execute_result",
          "data": {
            "text/plain": [
              "array([[-0.70710678, -0.70710678],\n",
              "       [ 0.70710678, -0.70710678]])"
            ]
          },
          "metadata": {
            "tags": []
          },
          "execution_count": 73
        }
      ]
    },
    {
      "cell_type": "code",
      "metadata": {
        "id": "8UrY6PjCk_N5",
        "colab_type": "code",
        "colab": {
          "base_uri": "https://localhost:8080/",
          "height": 35
        },
        "outputId": "0a760ae1-80e8-453e-b051-a65f415ab0c2"
      },
      "source": [
        "np.dot(vectors[0], vectors[1])"
      ],
      "execution_count": 74,
      "outputs": [
        {
          "output_type": "execute_result",
          "data": {
            "text/plain": [
              "0.0"
            ]
          },
          "metadata": {
            "tags": []
          },
          "execution_count": 74
        }
      ]
    },
    {
      "cell_type": "code",
      "metadata": {
        "id": "YMIASZmUk_V3",
        "colab_type": "code",
        "colab": {
          "base_uri": "https://localhost:8080/",
          "height": 35
        },
        "outputId": "501b0950-8a29-46ac-898d-e0d1975bccef"
      },
      "source": [
        "P = vectors.T.dot(standard_data.T) # transformed data\n",
        "P.shape"
      ],
      "execution_count": 75,
      "outputs": [
        {
          "output_type": "execute_result",
          "data": {
            "text/plain": [
              "(2, 100)"
            ]
          },
          "metadata": {
            "tags": []
          },
          "execution_count": 75
        }
      ]
    },
    {
      "cell_type": "code",
      "metadata": {
        "id": "sSO_0gEuk_Sq",
        "colab_type": "code",
        "colab": {
          "base_uri": "https://localhost:8080/",
          "height": 1000
        },
        "outputId": "869eb6d5-228c-499f-c0ac-5368da67cd45"
      },
      "source": [
        "P.T"
      ],
      "execution_count": 76,
      "outputs": [
        {
          "output_type": "execute_result",
          "data": {
            "text/plain": [
              "array([[-0.02302553,  1.06521153],\n",
              "       [-0.0741163 ,  1.32072486],\n",
              "       [-0.12013536,  1.76423225],\n",
              "       [ 0.16462141,  0.4119354 ],\n",
              "       [-0.43899664, -2.30631326],\n",
              "       [ 0.35103539,  0.5633865 ],\n",
              "       [ 0.20452315, -1.84538335],\n",
              "       [ 1.279134  , -0.12337991],\n",
              "       [-0.61164742, -1.76740539],\n",
              "       [ 0.10274148,  0.57886582],\n",
              "       [-0.49839124, -0.90965437],\n",
              "       [-0.03195061, -2.00639791],\n",
              "       [-0.24991315, -1.73732974],\n",
              "       [ 0.43832608, -0.18259913],\n",
              "       [-0.19256957, -0.08547352],\n",
              "       [-0.31047158,  0.24252947],\n",
              "       [-0.65049617,  2.85107672],\n",
              "       [-0.38094426,  0.84393299],\n",
              "       [-0.076993  , -0.17833647],\n",
              "       [ 0.2802334 , -1.09488572],\n",
              "       [ 0.0458431 , -2.24034775],\n",
              "       [ 0.25097117,  0.67480753],\n",
              "       [ 0.25137941, -0.55213611],\n",
              "       [ 0.46381185,  1.52382853],\n",
              "       [-0.52712689,  0.66076814],\n",
              "       [ 0.14285338, -1.87740726],\n",
              "       [ 0.72861085,  0.27666552],\n",
              "       [ 0.03649858,  0.0091274 ],\n",
              "       [-0.17427904,  0.01832166],\n",
              "       [ 1.08934743, -0.3821873 ],\n",
              "       [-0.2657856 , -1.75836692],\n",
              "       [-0.7381814 ,  0.24719814],\n",
              "       [-0.093946  , -0.85698804],\n",
              "       [ 0.17031143, -1.78845801],\n",
              "       [-0.51168968, -0.91055195],\n",
              "       [ 0.56357213, -0.96937932],\n",
              "       [-0.16392243, -0.85515247],\n",
              "       [-0.04676148,  0.71417277],\n",
              "       [-0.4878716 ,  0.45116071],\n",
              "       [-1.11883829,  1.19853469],\n",
              "       [-1.3675842 ,  1.0725059 ],\n",
              "       [ 0.1937414 ,  0.46231308],\n",
              "       [ 0.19014013,  1.9848876 ],\n",
              "       [-0.47239528, -1.37288749],\n",
              "       [ 0.11353289,  1.80596663],\n",
              "       [ 0.56337029,  0.75137913],\n",
              "       [ 0.10276649, -1.79189313],\n",
              "       [-0.1746614 , -2.4428844 ],\n",
              "       [-0.52864315, -0.24058194],\n",
              "       [-0.22841848, -1.12284308],\n",
              "       [ 0.08794762,  1.17285695],\n",
              "       [-0.02127281,  1.04074519],\n",
              "       [ 0.15595045, -0.49645598],\n",
              "       [-1.082175  , -0.42524269],\n",
              "       [ 0.00947582,  0.075899  ],\n",
              "       [-0.05543942, -1.33841018],\n",
              "       [-0.37212486, -0.13305441],\n",
              "       [-0.52292   , -1.03276413],\n",
              "       [-0.38001376, -1.4567514 ],\n",
              "       [ 0.36536992, -0.15790941],\n",
              "       [-0.86197235,  2.65370776],\n",
              "       [ 0.24528292,  1.38177876],\n",
              "       [ 0.46422064,  1.04927294],\n",
              "       [-0.48255074,  0.20450766],\n",
              "       [ 0.41974187, -1.37919351],\n",
              "       [ 0.49669053,  1.33763292],\n",
              "       [-0.42586803, -1.89072233],\n",
              "       [ 0.6067349 ,  1.32696063],\n",
              "       [ 0.06822352, -2.21730093],\n",
              "       [-0.3552307 ,  1.86872428],\n",
              "       [ 0.55312435,  0.10576934],\n",
              "       [ 0.33635767,  1.57178504],\n",
              "       [ 0.95224364,  0.7571549 ],\n",
              "       [-0.34753377, -2.43184657],\n",
              "       [ 0.53042476,  1.65879898],\n",
              "       [ 0.02528661,  1.27242759],\n",
              "       [-0.11025375,  2.0638237 ],\n",
              "       [ 0.60162013,  0.18219845],\n",
              "       [-0.64228985,  2.66400065],\n",
              "       [-0.21053738, -1.05554812],\n",
              "       [ 0.53747746, -1.16474243],\n",
              "       [-0.73032807,  0.29896806],\n",
              "       [ 0.62878134, -2.00843493],\n",
              "       [ 0.09440264, -1.4371466 ],\n",
              "       [-0.06484602, -1.5958886 ],\n",
              "       [-0.30043807,  1.8763941 ],\n",
              "       [ 0.84322719,  0.61064315],\n",
              "       [ 0.30415759,  1.75446284],\n",
              "       [-1.21668479, -0.90683981],\n",
              "       [ 0.06129802,  0.13196648],\n",
              "       [-0.30108535,  0.81801891],\n",
              "       [ 0.14764863, -1.19795474],\n",
              "       [ 1.15033878,  0.27230033],\n",
              "       [ 0.41813777,  1.41334647],\n",
              "       [ 0.15364799, -1.36862784],\n",
              "       [ 1.22005282,  0.44959689],\n",
              "       [-0.48068439,  1.12822126],\n",
              "       [-0.43144069,  1.8512406 ],\n",
              "       [-0.12425508,  0.99324974],\n",
              "       [ 0.87446952, -0.38592798]])"
            ]
          },
          "metadata": {
            "tags": []
          },
          "execution_count": 76
        }
      ]
    },
    {
      "cell_type": "markdown",
      "metadata": {
        "colab_type": "text",
        "id": "FBNMa7qLOzW0"
      },
      "source": [
        "# Lets use a library to prove to ourselves how smart we are"
      ]
    },
    {
      "cell_type": "code",
      "metadata": {
        "id": "FBAKRQwooZJo",
        "colab_type": "code",
        "colab": {}
      },
      "source": [
        ""
      ],
      "execution_count": 0,
      "outputs": []
    },
    {
      "cell_type": "code",
      "metadata": {
        "colab_type": "code",
        "id": "TsR_xy2YOI-S",
        "outputId": "31378124-6ffb-4c52-9367-958e06875675",
        "colab": {
          "base_uri": "https://localhost:8080/",
          "height": 1000
        }
      },
      "source": [
        "# Principal Component Analysis\n",
        "from numpy import array\n",
        "from sklearn.preprocessing import StandardScaler\n",
        "from sklearn.decomposition import PCA\n",
        "\n",
        "print(\"Data: \\n\", X)\n",
        "# Standardize the Data\n",
        "# Instantiate a Standard Scaler object\n",
        "scaler = StandardScaler()\n",
        "# Use the object to fit_transform our data\n",
        "Z = scaler.fit_transform(X)\n",
        "print(\"\\n Standardized Data: \\n\", Z)\n",
        "# create the PCA instance\n",
        "pca = PCA(n_components=0.9)\n",
        "# fit on data\n",
        "pca.fit(Z)\n",
        "# access values and vectors\n",
        "print(\"\\n Eigenvectors: \\n\", pca.components_)\n",
        "print(\"\\n Eigenvalues: \\n\",pca.explained_variance_)\n",
        "# transform data\n",
        "B = pca.transform(Z)\n",
        "print(\"\\n Projected Data: \\n\", B)"
      ],
      "execution_count": 77,
      "outputs": [
        {
          "output_type": "stream",
          "text": [
            "Data: \n",
            "     gallons_consumed  miles_driven\n",
            "0                613   7788.287411\n",
            "1                541   4556.976476\n",
            "2                401   -602.159023\n",
            "3                777  16650.803722\n",
            "4               1947  38936.966305\n",
            "5                658  17019.278626\n",
            "6               1558  40861.287256\n",
            "7                573  34038.395097\n",
            "8               1818  31437.825931\n",
            "9                740  14239.363760\n",
            "10              1476  23591.569900\n",
            "11              1698  40066.020160\n",
            "12              1680  34933.187210\n",
            "13               890  25801.205682\n",
            "14              1078  18128.565281\n",
            "15              1004  13429.157582\n",
            "16               205 -17645.939496\n",
            "17               817   6348.231852\n",
            "18              1070  20325.316300\n",
            "19              1267  33749.680468\n",
            "20              1753  43351.495800\n",
            "21               654  14790.428605\n",
            "22              1086  27725.531068\n",
            "23               280   8085.702917\n",
            "24               933   6737.988722\n",
            "25              1591  40548.848406\n",
            "26               626  24020.321084\n",
            "27               964  19545.719921\n",
            "28              1035  17227.428891\n",
            "29               731  34765.807741\n",
            "..               ...           ...\n",
            "70               748  23971.943472\n",
            "71               308   6237.043813\n",
            "72               378  21313.300823\n",
            "73              1959  41223.896350\n",
            "74               209   7365.280468\n",
            "75               523   6113.593649\n",
            "76               292  -3655.420735\n",
            "77               704  23677.553157\n",
            "78               268 -15587.851942\n",
            "79              1426  28162.850500\n",
            "80              1201  37197.006379\n",
            "81              1132   8409.467709\n",
            "82              1466  47050.964381\n",
            "83              1453  35398.302733\n",
            "84              1565  35392.963002\n",
            "85               425  -3684.452842\n",
            "86               468  21708.465011\n",
            "87               255   3972.438685\n",
            "88              1728  15991.787493\n",
            "89               912  18512.476879\n",
            "90               798   7462.976917\n",
            "91              1350  33438.612985\n",
            "92               479  28510.930635\n",
            "93               335   8768.716315\n",
            "94              1408  35300.569830\n",
            "95               392  27377.114823\n",
            "96               752   2300.943693\n",
            "97               480  -4800.000291\n",
            "98               674   7479.833445\n",
            "99               808  32540.625480\n",
            "\n",
            "[100 rows x 2 columns]\n",
            "\n",
            " Standardized Data: \n",
            " [[-0.73693679 -0.7694998 ]\n",
            " [-0.88148537 -0.98630165]\n",
            " [-1.16255206 -1.33244911]\n",
            " [-0.40768723 -0.1748774 ]\n",
            " [ 1.94122725  1.32039224]\n",
            " [-0.64659392 -0.15015491]\n",
            " [ 1.16026338  1.44950279]\n",
            " [-0.81724156  0.9917271 ]\n",
            " [ 1.68224437  0.8172443 ]\n",
            " [-0.48196915 -0.33667075]\n",
            " [ 0.9956386   0.29080694]\n",
            " [ 1.44133007  1.39614508]\n",
            " [ 1.40519292  1.05176236]\n",
            " [-0.18082626  0.43906043]\n",
            " [ 0.19660615 -0.07572834]\n",
            " [ 0.04804233 -0.39103079]\n",
            " [-1.55604543 -2.47598593]\n",
            " [-0.32738247 -0.86611901]\n",
            " [ 0.1805452   0.07166065]\n",
            " [ 0.57604618  0.97235606]\n",
            " [ 1.55174912  1.61658105]\n",
            " [-0.6546244  -0.29969756]\n",
            " [ 0.2126671   0.56817128]\n",
            " [-1.40547399 -0.74954498]\n",
            " [-0.09449864 -0.83996863]\n",
            " [ 1.22651481  1.42853999]\n",
            " [-0.71083774  0.31957361]\n",
            " [-0.03226244  0.01935435]\n",
            " [ 0.11027852 -0.13618926]\n",
            " [-0.50003772  1.04053218]\n",
            " [ 1.43129197  1.05541437]\n",
            " [ 0.34717759 -0.69676855]\n",
            " [ 0.6724119   0.5395522 ]\n",
            " [ 1.14420242  1.38505915]\n",
            " [ 1.0056767   0.28203822]\n",
            " [ 0.28694901  1.08396037]\n",
            " [ 0.72059477  0.48877345]\n",
            " [-0.47193105 -0.53806177]\n",
            " [ 0.02595852 -0.66399612]\n",
            " [-0.05635387 -1.63863015]\n",
            " [ 0.20865187 -1.72540426]\n",
            " [-0.46390057 -0.18990885]\n",
            " [-1.53797685 -1.2690781 ]\n",
            " [ 1.30481196  0.63674415]\n",
            " [-1.35729113 -1.19673137]\n",
            " [-0.92966823 -0.13294232]\n",
            " [ 1.1943929   1.33972666]\n",
            " [ 1.85088439  1.60387586]\n",
            " [ 0.54392427 -0.20369004]\n",
            " [ 0.95548621  0.6324537 ]\n",
            " [-0.89152347 -0.76714674]\n",
            " [-0.72087583 -0.75096013]\n",
            " [ 0.24077377  0.46132101]\n",
            " [ 1.06590527 -0.46452129]\n",
            " [-0.06036911 -0.04696828]\n",
            " [ 0.9856005   0.90719733]\n",
            " [ 0.35721569 -0.16904834]\n",
            " [ 1.1000348   0.36051425]\n",
            " [ 1.2987891   0.76136849]\n",
            " [-0.14669674  0.37001437]\n",
            " [-1.26694826 -2.48596125]\n",
            " [-1.15050635 -0.80362391]\n",
            " [-1.07020158 -0.41369445]\n",
            " [ 0.19660615 -0.48582365]\n",
            " [ 0.67843476  1.27203941]\n",
            " [-1.29706255 -0.59463606]\n",
            " [ 1.63807675  1.03580841]\n",
            " [-1.36732922 -0.5092765 ]\n",
            " [ 1.51962722  1.61610984]\n",
            " [-1.07020158 -1.57257365]\n",
            " [-0.46590819  0.31632776]\n",
            " [-1.34926065 -0.87357907]\n",
            " [-1.2087273   0.13794857]\n",
            " [ 1.96531868  1.47383172]\n",
            " [-1.54801495 -0.79788106]\n",
            " [-0.91762252 -0.88186184]\n",
            " [-1.38138256 -1.5373049 ]\n",
            " [-0.55424344  0.29657591]\n",
            " [-1.42956542 -2.33790043]\n",
            " [ 0.89525764  0.59751282]\n",
            " [ 0.44354331  1.20365123]\n",
            " [ 0.30501759 -0.72782228]\n",
            " [ 0.97556241  1.8647935 ]\n",
            " [ 0.94946336  1.08296886]\n",
            " [ 1.17431671  1.08261059]\n",
            " [-1.1143692  -1.53925279]\n",
            " [-1.02804157  0.16446175]\n",
            " [-1.45566447 -1.02552067]\n",
            " [ 1.50155864 -0.21909349]\n",
            " [-0.13665864 -0.04997014]\n",
            " [-0.36552723 -0.79132621]\n",
            " [ 0.74267858  0.95148527]\n",
            " [-1.00595776  0.62086694]\n",
            " [-1.29505493 -0.70371882]\n",
            " [ 0.85912049  1.07641156]\n",
            " [-1.18062063  0.54479461]\n",
            " [-0.45787772 -1.1376681 ]\n",
            " [-1.00395014 -1.61409942]\n",
            " [-0.61447201 -0.79019524]\n",
            " [-0.34545104  0.89123562]]\n",
            "\n",
            " Eigenvectors: \n",
            " [[-0.70710678 -0.70710678]\n",
            " [ 0.70710678 -0.70710678]]\n",
            "\n",
            " Eigenvalues: \n",
            " [1.75284122 0.2673608 ]\n",
            "\n",
            " Projected Data: \n",
            " [[ 1.06521153  0.02302553]\n",
            " [ 1.32072486  0.0741163 ]\n",
            " [ 1.76423225  0.12013536]\n",
            " [ 0.4119354  -0.16462141]\n",
            " [-2.30631326  0.43899664]\n",
            " [ 0.5633865  -0.35103539]\n",
            " [-1.84538335 -0.20452315]\n",
            " [-0.12337991 -1.279134  ]\n",
            " [-1.76740539  0.61164742]\n",
            " [ 0.57886582 -0.10274148]\n",
            " [-0.90965437  0.49839124]\n",
            " [-2.00639791  0.03195061]\n",
            " [-1.73732974  0.24991315]\n",
            " [-0.18259913 -0.43832608]\n",
            " [-0.08547352  0.19256957]\n",
            " [ 0.24252947  0.31047158]\n",
            " [ 2.85107672  0.65049617]\n",
            " [ 0.84393299  0.38094426]\n",
            " [-0.17833647  0.076993  ]\n",
            " [-1.09488572 -0.2802334 ]\n",
            " [-2.24034775 -0.0458431 ]\n",
            " [ 0.67480753 -0.25097117]\n",
            " [-0.55213611 -0.25137941]\n",
            " [ 1.52382853 -0.46381185]\n",
            " [ 0.66076814  0.52712689]\n",
            " [-1.87740726 -0.14285338]\n",
            " [ 0.27666552 -0.72861085]\n",
            " [ 0.0091274  -0.03649858]\n",
            " [ 0.01832166  0.17427904]\n",
            " [-0.3821873  -1.08934743]\n",
            " [-1.75836692  0.2657856 ]\n",
            " [ 0.24719814  0.7381814 ]\n",
            " [-0.85698804  0.093946  ]\n",
            " [-1.78845801 -0.17031143]\n",
            " [-0.91055195  0.51168968]\n",
            " [-0.96937932 -0.56357213]\n",
            " [-0.85515247  0.16392243]\n",
            " [ 0.71417277  0.04676148]\n",
            " [ 0.45116071  0.4878716 ]\n",
            " [ 1.19853469  1.11883829]\n",
            " [ 1.0725059   1.3675842 ]\n",
            " [ 0.46231308 -0.1937414 ]\n",
            " [ 1.9848876  -0.19014013]\n",
            " [-1.37288749  0.47239528]\n",
            " [ 1.80596663 -0.11353289]\n",
            " [ 0.75137913 -0.56337029]\n",
            " [-1.79189313 -0.10276649]\n",
            " [-2.4428844   0.1746614 ]\n",
            " [-0.24058194  0.52864315]\n",
            " [-1.12284308  0.22841848]\n",
            " [ 1.17285695 -0.08794762]\n",
            " [ 1.04074519  0.02127281]\n",
            " [-0.49645598 -0.15595045]\n",
            " [-0.42524269  1.082175  ]\n",
            " [ 0.075899   -0.00947582]\n",
            " [-1.33841018  0.05543942]\n",
            " [-0.13305441  0.37212486]\n",
            " [-1.03276413  0.52292   ]\n",
            " [-1.4567514   0.38001376]\n",
            " [-0.15790941 -0.36536992]\n",
            " [ 2.65370776  0.86197235]\n",
            " [ 1.38177876 -0.24528292]\n",
            " [ 1.04927294 -0.46422064]\n",
            " [ 0.20450766  0.48255074]\n",
            " [-1.37919351 -0.41974187]\n",
            " [ 1.33763292 -0.49669053]\n",
            " [-1.89072233  0.42586803]\n",
            " [ 1.32696063 -0.6067349 ]\n",
            " [-2.21730093 -0.06822352]\n",
            " [ 1.86872428  0.3552307 ]\n",
            " [ 0.10576934 -0.55312435]\n",
            " [ 1.57178504 -0.33635767]\n",
            " [ 0.7571549  -0.95224364]\n",
            " [-2.43184657  0.34753377]\n",
            " [ 1.65879898 -0.53042476]\n",
            " [ 1.27242759 -0.02528661]\n",
            " [ 2.0638237   0.11025375]\n",
            " [ 0.18219845 -0.60162013]\n",
            " [ 2.66400065  0.64228985]\n",
            " [-1.05554812  0.21053738]\n",
            " [-1.16474243 -0.53747746]\n",
            " [ 0.29896806  0.73032807]\n",
            " [-2.00843493 -0.62878134]\n",
            " [-1.4371466  -0.09440264]\n",
            " [-1.5958886   0.06484602]\n",
            " [ 1.8763941   0.30043807]\n",
            " [ 0.61064315 -0.84322719]\n",
            " [ 1.75446284 -0.30415759]\n",
            " [-0.90683981  1.21668479]\n",
            " [ 0.13196648 -0.06129802]\n",
            " [ 0.81801891  0.30108535]\n",
            " [-1.19795474 -0.14764863]\n",
            " [ 0.27230033 -1.15033878]\n",
            " [ 1.41334647 -0.41813777]\n",
            " [-1.36862784 -0.15364799]\n",
            " [ 0.44959689 -1.22005282]\n",
            " [ 1.12822126  0.48068439]\n",
            " [ 1.8512406   0.43144069]\n",
            " [ 0.99324974  0.12425508]\n",
            " [-0.38592798 -0.87446952]]\n"
          ],
          "name": "stdout"
        }
      ]
    },
    {
      "cell_type": "code",
      "metadata": {
        "colab_type": "code",
        "id": "uK12n9sFPG4g",
        "colab": {
          "base_uri": "https://localhost:8080/",
          "height": 53
        },
        "outputId": "8ddfc61d-d39f-44e8-f8d5-e43fe664810b"
      },
      "source": [
        "pca.components_ # eigen vectors"
      ],
      "execution_count": 80,
      "outputs": [
        {
          "output_type": "execute_result",
          "data": {
            "text/plain": [
              "array([[-0.70710678, -0.70710678],\n",
              "       [ 0.70710678, -0.70710678]])"
            ]
          },
          "metadata": {
            "tags": []
          },
          "execution_count": 80
        }
      ]
    },
    {
      "cell_type": "code",
      "metadata": {
        "id": "O_7gsYYDoufu",
        "colab_type": "code",
        "colab": {
          "base_uri": "https://localhost:8080/",
          "height": 35
        },
        "outputId": "6b10735e-1e3e-4581-cac7-9a1d5c003141"
      },
      "source": [
        "pca.explained_variance_ # eigen values"
      ],
      "execution_count": 82,
      "outputs": [
        {
          "output_type": "execute_result",
          "data": {
            "text/plain": [
              "array([1.75284122, 0.2673608 ])"
            ]
          },
          "metadata": {
            "tags": []
          },
          "execution_count": 82
        }
      ]
    },
    {
      "cell_type": "code",
      "metadata": {
        "id": "9j-m6w0Aox9R",
        "colab_type": "code",
        "colab": {
          "base_uri": "https://localhost:8080/",
          "height": 35
        },
        "outputId": "5d5984cf-50c0-4577-9869-1cba087abb67"
      },
      "source": [
        "pca.explained_variance_ratio_"
      ],
      "execution_count": 83,
      "outputs": [
        {
          "output_type": "execute_result",
          "data": {
            "text/plain": [
              "array([0.86765641, 0.13234359])"
            ]
          },
          "metadata": {
            "tags": []
          },
          "execution_count": 83
        }
      ]
    },
    {
      "cell_type": "code",
      "metadata": {
        "id": "BpvBlhowpIC0",
        "colab_type": "code",
        "colab": {
          "base_uri": "https://localhost:8080/",
          "height": 35
        },
        "outputId": "f7cd4474-4740-4fbe-a9a3-ed494f90f77f"
      },
      "source": [
        "sum(pca.explained_variance_ratio_)"
      ],
      "execution_count": 84,
      "outputs": [
        {
          "output_type": "execute_result",
          "data": {
            "text/plain": [
              "1.0"
            ]
          },
          "metadata": {
            "tags": []
          },
          "execution_count": 84
        }
      ]
    },
    {
      "cell_type": "code",
      "metadata": {
        "id": "6miqgV02pJi1",
        "colab_type": "code",
        "colab": {}
      },
      "source": [
        "# https://medium.com/airbnb-engineering/categorizing-listing-photos-at-airbnb-f9483f3ab7e3"
      ],
      "execution_count": 0,
      "outputs": []
    },
    {
      "cell_type": "code",
      "metadata": {
        "id": "M9kYM8s9qaxb",
        "colab_type": "code",
        "colab": {}
      },
      "source": [
        "# https://multithreaded.stitchfix.com/blog/2018/06/28/latent-style/"
      ],
      "execution_count": 0,
      "outputs": []
    },
    {
      "cell_type": "code",
      "metadata": {
        "id": "sp8ju77nqb_6",
        "colab_type": "code",
        "colab": {}
      },
      "source": [
        ""
      ],
      "execution_count": 0,
      "outputs": []
    }
  ]
}